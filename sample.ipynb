{
 "cells": [
  {
   "cell_type": "markdown",
   "id": "a0fdd53dcf3380f9",
   "metadata": {},
   "source": [
    "# Creación de neurona artificial para ETH\n"
   ]
  },
  {
   "cell_type": "code",
   "id": "211389c622429cc4",
   "metadata": {
    "ExecuteTime": {
     "end_time": "2025-10-30T20:47:23.010700Z",
     "start_time": "2025-10-30T20:47:23.006759Z"
    }
   },
   "source": [
    "import tensorflow as tf\n",
    "import pandas as pd\n",
    "import numpy as np\n",
    "import matplotlib.pyplot as plt\n",
    "import yfinance as yf\n",
    "from sklearn.preprocessing import MinMaxScaler\n",
    "from sklearn.model_selection import train_test_split\n",
    "\n",
    "print(\"TensorFlow version:\", tf.__version__)\n",
    "print(\"Verion 1.0.0 del algoritmo\")"
   ],
   "outputs": [
    {
     "name": "stdout",
     "output_type": "stream",
     "text": [
      "TensorFlow version: 2.20.0\n",
      "Verion 1.0.0 del algoritmo\n"
     ]
    }
   ],
   "execution_count": 21
  },
  {
   "cell_type": "markdown",
   "id": "77090c0eb7ff1473",
   "metadata": {},
   "source": [
    "## Descargar datos de Ethereum"
   ]
  },
  {
   "cell_type": "code",
   "id": "f5ed42eb826a563e",
   "metadata": {
    "ExecuteTime": {
     "end_time": "2025-10-30T20:47:23.066953Z",
     "start_time": "2025-10-30T20:47:23.031141Z"
    }
   },
   "source": [
    "# Descargar datos históricos de Ethereum\n",
    "eth = yf.download('ETH-USD', start='2020-01-01', end='2025-10-20')\n",
    "\n",
    "# Mostrar las primeras filas\n",
    "print(eth.head())\n",
    "print(\"\\nForma de los datos:\", eth.shape)"
   ],
   "outputs": [
    {
     "name": "stderr",
     "output_type": "stream",
     "text": [
      "C:\\Users\\raton\\AppData\\Local\\Temp\\ipykernel_24920\\3822267417.py:2: FutureWarning: YF.download() has changed argument auto_adjust default to True\n",
      "  eth = yf.download('ETH-USD', start='2020-01-01', end='2025-10-20')\n",
      "[*********************100%***********************]  1 of 1 completed"
     ]
    },
    {
     "name": "stdout",
     "output_type": "stream",
     "text": [
      "Price            Close        High         Low        Open       Volume\n",
      "Ticker         ETH-USD     ETH-USD     ETH-USD     ETH-USD      ETH-USD\n",
      "Date                                                                   \n",
      "2020-01-01  130.802002  132.835358  129.198288  129.630661   7935230330\n",
      "2020-01-02  127.410179  130.820038  126.954910  130.820038   8032709256\n",
      "2020-01-03  134.171707  134.554016  126.490021  127.411263  10476845358\n",
      "2020-01-04  135.069366  136.052719  133.040558  134.168518   7430904515\n",
      "2020-01-05  136.276779  139.410202  135.045624  135.072098   7526675353\n",
      "\n",
      "Forma de los datos: (2119, 5)\n"
     ]
    },
    {
     "name": "stderr",
     "output_type": "stream",
     "text": [
      "\n"
     ]
    }
   ],
   "execution_count": 22
  },
  {
   "cell_type": "markdown",
   "id": "50d3585caf3e2206",
   "metadata": {},
   "source": [
    "## Preprocesamiento de datos"
   ]
  },
  {
   "cell_type": "code",
   "id": "528210cce76405ad",
   "metadata": {
    "ExecuteTime": {
     "end_time": "2025-10-30T20:47:23.103603Z",
     "start_time": "2025-10-30T20:47:23.095366Z"
    }
   },
   "source": [
    "# Usaremos solo el precio de cierre\n",
    "data = eth[['Close']].values\n",
    "\n",
    "# Normalizar los datos entre 0 y 1\n",
    "scaler = MinMaxScaler(feature_range=(0, 1))\n",
    "data_scaled = scaler.fit_transform(data)\n",
    "\n",
    "# Crear secuencias para entrenamiento\n",
    "def create_sequences(data, sequence_length=10):\n",
    "    X, y = [], []\n",
    "    for i in range(len(data) - sequence_length):\n",
    "        X.append(data[i:(i + sequence_length), 0])\n",
    "        y.append(data[i + sequence_length, 0])\n",
    "    return np.array(X), np.array(y)\n",
    "\n",
    "sequence_length = 10\n",
    "X, y = create_sequences(data_scaled, sequence_length)\n",
    "\n",
    "print(f\"Forma de X: {X.shape}\")\n",
    "print(f\"Forma de y: {y.shape}\")"
   ],
   "outputs": [
    {
     "name": "stdout",
     "output_type": "stream",
     "text": [
      "Forma de X: (2109, 10)\n",
      "Forma de y: (2109,)\n"
     ]
    }
   ],
   "execution_count": 23
  },
  {
   "cell_type": "markdown",
   "id": "4c79c1d80c5973bf",
   "metadata": {},
   "source": [
    "## Definir la estructura de una sola neurona"
   ]
  },
  {
   "cell_type": "code",
   "id": "a125d34e71f8b537",
   "metadata": {
    "ExecuteTime": {
     "end_time": "2025-10-30T20:47:23.127357Z",
     "start_time": "2025-10-30T20:47:23.120501Z"
    }
   },
   "source": [
    "# UNA SOLA NEURONA usando TensorFlow\n",
    "class SingleNeuron:\n",
    "    def __init__(self, input_dim):\n",
    "        # Inicializar pesos y sesgo (bias)\n",
    "        self.W = tf.Variable(tf.random.normal([input_dim, 1], stddev=0.1), name='weights')\n",
    "        self.b = tf.Variable(tf.zeros([1]), name='bias')\n",
    "\n",
    "    def __call__(self, x):\n",
    "        # Forward pass: y = Wx + b\n",
    "        return tf.matmul(x, self.W) + self.b\n",
    "\n",
    "    def get_weights(self):\n",
    "        return self.W.numpy(), self.b.numpy()\n",
    "\n",
    "# Crear la neurona\n",
    "neurona = SingleNeuron(input_dim=sequence_length)\n",
    "print(\"Neurona creada exitosamente!\")\n",
    "print(f\"Pesos iniciales: {neurona.get_weights()[0].flatten()}\")\n",
    "print(f\"Sesgo inicial: {neurona.get_weights()[1]}\")"
   ],
   "outputs": [
    {
     "name": "stdout",
     "output_type": "stream",
     "text": [
      "Neurona creada exitosamente!\n",
      "Pesos iniciales: [-0.00323748  0.02179729 -0.14080523 -0.10627617 -0.1236391  -0.15381604\n",
      "  0.23568593  0.01270707  0.15914252  0.19362748]\n",
      "Sesgo inicial: [0.]\n"
     ]
    }
   ],
   "execution_count": 24
  },
  {
   "cell_type": "markdown",
   "id": "3cee932a4e5592ea",
   "metadata": {},
   "source": [
    "## Función de pérdida y optimizador"
   ]
  },
  {
   "cell_type": "code",
   "id": "dd34cd6f0aa13628",
   "metadata": {
    "ExecuteTime": {
     "end_time": "2025-10-30T20:47:23.147781Z",
     "start_time": "2025-10-30T20:47:23.142048Z"
    }
   },
   "source": [
    "# Función de pérdida (Error Cuadrático Medio)\n",
    "def loss_fn(y_true, y_pred):\n",
    "    return tf.reduce_mean(tf.square(y_true - y_pred))\n",
    "\n",
    "# Optimizador (Descenso de Gradiente)\n",
    "optimizer = tf.optimizers.Adam(learning_rate=0.001)\n",
    "\n",
    "# Dividir datos en entrenamiento y prueba\n",
    "X_train, X_test, y_train, y_test = train_test_split(X, y, test_size=0.2, shuffle=False)\n",
    "\n",
    "print(f\"Datos de entrenamiento: {X_train.shape}\")\n",
    "print(f\"Datos de prueba: {X_test.shape}\")"
   ],
   "outputs": [
    {
     "name": "stdout",
     "output_type": "stream",
     "text": [
      "Datos de entrenamiento: (1687, 10)\n",
      "Datos de prueba: (422, 10)\n"
     ]
    }
   ],
   "execution_count": 25
  },
  {
   "cell_type": "markdown",
   "id": "df84f0139b7d62e1",
   "metadata": {},
   "source": [
    "## Entrenamiento de la neurona"
   ]
  },
  {
   "cell_type": "code",
   "id": "38661e3460ffc753",
   "metadata": {
    "ExecuteTime": {
     "end_time": "2025-10-30T20:47:56.293623Z",
     "start_time": "2025-10-30T20:47:23.162967Z"
    }
   },
   "source": [
    "# Historial de pérdidas\n",
    "train_losses = []\n",
    "test_losses = []\n",
    "\n",
    "# Entrenamiento\n",
    "epochs = 2000\n",
    "for epoch in range(epochs):\n",
    "    with tf.GradientTape() as tape:\n",
    "        # Forward pass\n",
    "        y_pred = neurona(X_train.astype(np.float32))\n",
    "        loss = loss_fn(y_train.astype(np.float32), y_pred)\n",
    "\n",
    "    # Backward pass\n",
    "    gradients = tape.gradient(loss, [neurona.W, neurona.b])\n",
    "    optimizer.apply_gradients(zip(gradients, [neurona.W, neurona.b]))\n",
    "\n",
    "    # Calcular pérdida en test\n",
    "    y_test_pred = neurona(X_test.astype(np.float32))\n",
    "    test_loss = loss_fn(y_test.astype(np.float32), y_test_pred)\n",
    "\n",
    "    train_losses.append(loss.numpy())\n",
    "    test_losses.append(test_loss.numpy())\n",
    "\n",
    "    if epoch % 20 == 0:\n",
    "        print(f\"Época {epoch}: Pérdida entrenamiento = {loss.numpy():.6f}, Pérdida prueba = {test_loss.numpy():.6f}\")\n",
    "\n",
    "print(\"\\n¡Entrenamiento completado!\")"
   ],
   "outputs": [
    {
     "name": "stdout",
     "output_type": "stream",
     "text": [
      "Época 0: Pérdida entrenamiento = 0.179753, Pérdida prueba = 0.327963\n",
      "Época 20: Pérdida entrenamiento = 0.127868, Pérdida prueba = 0.200333\n",
      "Época 40: Pérdida entrenamiento = 0.101145, Pérdida prueba = 0.124613\n",
      "Época 60: Pérdida entrenamiento = 0.091398, Pérdida prueba = 0.089333\n",
      "Época 80: Pérdida entrenamiento = 0.088383, Pérdida prueba = 0.076048\n",
      "Época 100: Pérdida entrenamiento = 0.086742, Pérdida prueba = 0.072158\n",
      "Época 120: Pérdida entrenamiento = 0.085166, Pérdida prueba = 0.071644\n",
      "Época 140: Pérdida entrenamiento = 0.083566, Pérdida prueba = 0.071925\n",
      "Época 160: Pérdida entrenamiento = 0.081973, Pérdida prueba = 0.072140\n",
      "Época 180: Pérdida entrenamiento = 0.080404, Pérdida prueba = 0.072215\n",
      "Época 200: Pérdida entrenamiento = 0.078873, Pérdida prueba = 0.072259\n",
      "Época 220: Pérdida entrenamiento = 0.077391, Pérdida prueba = 0.072331\n",
      "Época 240: Pérdida entrenamiento = 0.075967, Pérdida prueba = 0.072434\n",
      "Época 260: Pérdida entrenamiento = 0.074606, Pérdida prueba = 0.072563\n",
      "Época 280: Pérdida entrenamiento = 0.073313, Pérdida prueba = 0.072713\n",
      "Época 300: Pérdida entrenamiento = 0.072090, Pérdida prueba = 0.072885\n",
      "Época 320: Pérdida entrenamiento = 0.070939, Pérdida prueba = 0.073077\n",
      "Época 340: Pérdida entrenamiento = 0.069860, Pérdida prueba = 0.073290\n",
      "Época 360: Pérdida entrenamiento = 0.068853, Pérdida prueba = 0.073520\n",
      "Época 380: Pérdida entrenamiento = 0.067917, Pérdida prueba = 0.073766\n",
      "Época 400: Pérdida entrenamiento = 0.067049, Pérdida prueba = 0.074027\n",
      "Época 420: Pérdida entrenamiento = 0.066248, Pérdida prueba = 0.074300\n",
      "Época 440: Pérdida entrenamiento = 0.065510, Pérdida prueba = 0.074584\n",
      "Época 460: Pérdida entrenamiento = 0.064834, Pérdida prueba = 0.074877\n",
      "Época 480: Pérdida entrenamiento = 0.064216, Pérdida prueba = 0.075177\n",
      "Época 500: Pérdida entrenamiento = 0.063653, Pérdida prueba = 0.075482\n",
      "Época 520: Pérdida entrenamiento = 0.063141, Pérdida prueba = 0.075790\n",
      "Época 540: Pérdida entrenamiento = 0.062678, Pérdida prueba = 0.076100\n",
      "Época 560: Pérdida entrenamiento = 0.062259, Pérdida prueba = 0.076410\n",
      "Época 580: Pérdida entrenamiento = 0.061883, Pérdida prueba = 0.076719\n",
      "Época 600: Pérdida entrenamiento = 0.061546, Pérdida prueba = 0.077025\n",
      "Época 620: Pérdida entrenamiento = 0.061244, Pérdida prueba = 0.077327\n",
      "Época 640: Pérdida entrenamiento = 0.060974, Pérdida prueba = 0.077624\n",
      "Época 660: Pérdida entrenamiento = 0.060735, Pérdida prueba = 0.077915\n",
      "Época 680: Pérdida entrenamiento = 0.060523, Pérdida prueba = 0.078198\n",
      "Época 700: Pérdida entrenamiento = 0.060335, Pérdida prueba = 0.078474\n",
      "Época 720: Pérdida entrenamiento = 0.060170, Pérdida prueba = 0.078741\n",
      "Época 740: Pérdida entrenamiento = 0.060025, Pérdida prueba = 0.078998\n",
      "Época 760: Pérdida entrenamiento = 0.059898, Pérdida prueba = 0.079246\n",
      "Época 780: Pérdida entrenamiento = 0.059786, Pérdida prueba = 0.079484\n",
      "Época 800: Pérdida entrenamiento = 0.059690, Pérdida prueba = 0.079711\n",
      "Época 820: Pérdida entrenamiento = 0.059605, Pérdida prueba = 0.079928\n",
      "Época 840: Pérdida entrenamiento = 0.059533, Pérdida prueba = 0.080134\n",
      "Época 860: Pérdida entrenamiento = 0.059470, Pérdida prueba = 0.080330\n",
      "Época 880: Pérdida entrenamiento = 0.059415, Pérdida prueba = 0.080515\n",
      "Época 900: Pérdida entrenamiento = 0.059368, Pérdida prueba = 0.080689\n",
      "Época 920: Pérdida entrenamiento = 0.059328, Pérdida prueba = 0.080853\n",
      "Época 940: Pérdida entrenamiento = 0.059294, Pérdida prueba = 0.081007\n",
      "Época 960: Pérdida entrenamiento = 0.059264, Pérdida prueba = 0.081151\n",
      "Época 980: Pérdida entrenamiento = 0.059239, Pérdida prueba = 0.081285\n",
      "Época 1000: Pérdida entrenamiento = 0.059217, Pérdida prueba = 0.081410\n",
      "Época 1020: Pérdida entrenamiento = 0.059199, Pérdida prueba = 0.081527\n",
      "Época 1040: Pérdida entrenamiento = 0.059183, Pérdida prueba = 0.081634\n",
      "Época 1060: Pérdida entrenamiento = 0.059169, Pérdida prueba = 0.081734\n",
      "Época 1080: Pérdida entrenamiento = 0.059158, Pérdida prueba = 0.081826\n",
      "Época 1100: Pérdida entrenamiento = 0.059147, Pérdida prueba = 0.081911\n",
      "Época 1120: Pérdida entrenamiento = 0.059139, Pérdida prueba = 0.081989\n",
      "Época 1140: Pérdida entrenamiento = 0.059131, Pérdida prueba = 0.082060\n",
      "Época 1160: Pérdida entrenamiento = 0.059125, Pérdida prueba = 0.082125\n",
      "Época 1180: Pérdida entrenamiento = 0.059119, Pérdida prueba = 0.082185\n",
      "Época 1200: Pérdida entrenamiento = 0.059114, Pérdida prueba = 0.082239\n",
      "Época 1220: Pérdida entrenamiento = 0.059109, Pérdida prueba = 0.082288\n",
      "Época 1240: Pérdida entrenamiento = 0.059105, Pérdida prueba = 0.082333\n",
      "Época 1260: Pérdida entrenamiento = 0.059101, Pérdida prueba = 0.082374\n",
      "Época 1280: Pérdida entrenamiento = 0.059098, Pérdida prueba = 0.082410\n",
      "Época 1300: Pérdida entrenamiento = 0.059094, Pérdida prueba = 0.082443\n",
      "Época 1320: Pérdida entrenamiento = 0.059091, Pérdida prueba = 0.082473\n",
      "Época 1340: Pérdida entrenamiento = 0.059088, Pérdida prueba = 0.082499\n",
      "Época 1360: Pérdida entrenamiento = 0.059085, Pérdida prueba = 0.082523\n",
      "Época 1380: Pérdida entrenamiento = 0.059083, Pérdida prueba = 0.082545\n",
      "Época 1400: Pérdida entrenamiento = 0.059080, Pérdida prueba = 0.082564\n",
      "Época 1420: Pérdida entrenamiento = 0.059077, Pérdida prueba = 0.082581\n",
      "Época 1440: Pérdida entrenamiento = 0.059075, Pérdida prueba = 0.082596\n",
      "Época 1460: Pérdida entrenamiento = 0.059073, Pérdida prueba = 0.082609\n",
      "Época 1480: Pérdida entrenamiento = 0.059070, Pérdida prueba = 0.082621\n",
      "Época 1500: Pérdida entrenamiento = 0.059068, Pérdida prueba = 0.082632\n",
      "Época 1520: Pérdida entrenamiento = 0.059065, Pérdida prueba = 0.082641\n",
      "Época 1540: Pérdida entrenamiento = 0.059063, Pérdida prueba = 0.082649\n",
      "Época 1560: Pérdida entrenamiento = 0.059061, Pérdida prueba = 0.082657\n",
      "Época 1580: Pérdida entrenamiento = 0.059058, Pérdida prueba = 0.082663\n",
      "Época 1600: Pérdida entrenamiento = 0.059056, Pérdida prueba = 0.082669\n",
      "Época 1620: Pérdida entrenamiento = 0.059054, Pérdida prueba = 0.082674\n",
      "Época 1640: Pérdida entrenamiento = 0.059051, Pérdida prueba = 0.082678\n",
      "Época 1660: Pérdida entrenamiento = 0.059049, Pérdida prueba = 0.082682\n",
      "Época 1680: Pérdida entrenamiento = 0.059047, Pérdida prueba = 0.082685\n",
      "Época 1700: Pérdida entrenamiento = 0.059045, Pérdida prueba = 0.082689\n",
      "Época 1720: Pérdida entrenamiento = 0.059042, Pérdida prueba = 0.082691\n",
      "Época 1740: Pérdida entrenamiento = 0.059040, Pérdida prueba = 0.082694\n",
      "Época 1760: Pérdida entrenamiento = 0.059038, Pérdida prueba = 0.082696\n",
      "Época 1780: Pérdida entrenamiento = 0.059036, Pérdida prueba = 0.082698\n",
      "Época 1800: Pérdida entrenamiento = 0.059034, Pérdida prueba = 0.082699\n",
      "Época 1820: Pérdida entrenamiento = 0.059031, Pérdida prueba = 0.082701\n",
      "Época 1840: Pérdida entrenamiento = 0.059029, Pérdida prueba = 0.082703\n",
      "Época 1860: Pérdida entrenamiento = 0.059027, Pérdida prueba = 0.082704\n",
      "Época 1880: Pérdida entrenamiento = 0.059025, Pérdida prueba = 0.082705\n",
      "Época 1900: Pérdida entrenamiento = 0.059023, Pérdida prueba = 0.082706\n",
      "Época 1920: Pérdida entrenamiento = 0.059021, Pérdida prueba = 0.082707\n",
      "Época 1940: Pérdida entrenamiento = 0.059019, Pérdida prueba = 0.082709\n",
      "Época 1960: Pérdida entrenamiento = 0.059017, Pérdida prueba = 0.082710\n",
      "Época 1980: Pérdida entrenamiento = 0.059015, Pérdida prueba = 0.082711\n",
      "\n",
      "¡Entrenamiento completado!\n"
     ]
    }
   ],
   "execution_count": 26
  },
  {
   "cell_type": "markdown",
   "id": "3cd8ea5c37f21902",
   "metadata": {},
   "source": [
    "## Visualización del entrenamiento"
   ]
  },
  {
   "cell_type": "code",
   "id": "4cf263d4de049d04",
   "metadata": {
    "ExecuteTime": {
     "end_time": "2025-10-30T20:47:56.412378Z",
     "start_time": "2025-10-30T20:47:56.299769Z"
    }
   },
   "source": [
    "plt.figure(figsize=(12, 4))\n",
    "\n",
    "# Gráfico de pérdidas\n",
    "plt.subplot(1, 2, 1)\n",
    "plt.plot(train_losses, label='Pérdida Entrenamiento')\n",
    "plt.plot(test_losses, label='Pérdida Prueba')\n",
    "plt.title('Evolución de la Pérdida durante el Entrenamiento')\n",
    "plt.xlabel('Época')\n",
    "plt.ylabel('Pérdida')\n",
    "plt.legend()\n",
    "plt.grid(True)"
   ],
   "outputs": [
    {
     "data": {
      "text/plain": [
       "<Figure size 1200x400 with 1 Axes>"
      ],
      "image/png": "[encoded data removed]"
     },
     "metadata": {},
     "output_type": "display_data",
     "jetTransient": {
      "display_id": null
     }
    }
   ],
   "execution_count": 27
  },
  {
   "cell_type": "markdown",
   "id": "3487c71102aebfce",
   "metadata": {},
   "source": [
    "# Predicciones"
   ]
  },
  {
   "cell_type": "code",
   "id": "febe21c62293943d",
   "metadata": {
    "ExecuteTime": {
     "end_time": "2025-10-30T20:47:56.526761Z",
     "start_time": "2025-10-30T20:47:56.420760Z"
    }
   },
   "source": [
    "# Hacer predicciones\n",
    "y_pred_train = neurona(X_train.astype(np.float32))\n",
    "y_pred_test = neurona(X_test.astype(np.float32))\n",
    "\n",
    "# Desnormalizar las predicciones\n",
    "y_pred_train_actual = scaler.inverse_transform(y_pred_train.numpy())\n",
    "y_test_actual = scaler.inverse_transform(y_test.reshape(-1, 1))\n",
    "y_train_actual = scaler.inverse_transform(y_train.reshape(-1, 1))\n",
    "\n",
    "# Gráfico de predicciones vs valores reales\n",
    "plt.subplot(1, 2, 2)\n",
    "plt.plot(y_train_actual, label='Valores Reales (Train)', alpha=0.7)\n",
    "plt.plot(y_pred_train_actual, label='Predicciones (Train)', alpha=0.7)\n",
    "plt.title('Predicciones vs Valores Reales - Entrenamiento')\n",
    "plt.xlabel('Tiempo')\n",
    "plt.ylabel('Precio ETH (USD)')\n",
    "plt.legend()\n",
    "plt.grid(True)\n",
    "\n",
    "plt.tight_layout()\n",
    "plt.show()"
   ],
   "outputs": [
    {
     "data": {
      "text/plain": [
       "<Figure size 640x480 with 1 Axes>"
      ],
      "image/png": "[encoded data removed]"
     },
     "metadata": {},
     "output_type": "display_data",
     "jetTransient": {
      "display_id": null
     }
    }
   ],
   "execution_count": 28
  },
  {
   "cell_type": "markdown",
   "id": "9d01d40641691256",
   "metadata": {},
   "source": [
    "## Predicción del siguiente precio"
   ]
  },
  {
   "cell_type": "code",
   "id": "711fc1286d5d4ca3",
   "metadata": {
    "ExecuteTime": {
     "end_time": "2025-10-30T20:47:56.544536Z",
     "start_time": "2025-10-30T20:47:56.537886Z"
    }
   },
   "source": [
    "# Usar los últimos 'sequence_length' días para predecir el siguiente\n",
    "ultimos_datos = data_scaled[-sequence_length:].flatten().reshape(1, -1)\n",
    "\n",
    "# Hacer la predicción\n",
    "prediccion_normalizada = neurona(ultimos_datos.astype(np.float32))\n",
    "prediccion = scaler.inverse_transform(prediccion_normalizada.numpy())\n",
    "\n",
    "print(f\"\\n=== PREDICCIÓN DE LA NEURONA ===\")\n",
    "print(f\"Último precio real: ${data[-1][0]:.2f}\")\n",
    "print(f\"Predicción del siguiente precio: ${prediccion[0][0]:.2f}\")\n",
    "print(f\"Pesos finales de la neurona: {neurona.get_weights()[0].flatten()}\")\n",
    "print(f\"Sesgo final: {neurona.get_weights()[1][0]:.6f}\")"
   ],
   "outputs": [
    {
     "name": "stdout",
     "output_type": "stream",
     "text": [
      "\n",
      "=== PREDICCIÓN DE LA NEURONA ===\n",
      "Último precio real: $3984.65\n",
      "Predicción del siguiente precio: $1826.62\n",
      "Pesos finales de la neurona: [ 0.0235085   0.04814655 -0.11424208 -0.08613158 -0.11367317 -0.16000941\n",
      "  0.20426196 -0.03077487  0.10202651  0.12916018]\n",
      "Sesgo final: 0.382262\n"
     ]
    }
   ],
   "execution_count": 29
  },
  {
   "cell_type": "markdown",
   "id": "935ed9d65891a6e8",
   "metadata": {},
   "source": [
    "# Evaluación del modelo"
   ]
  },
  {
   "cell_type": "code",
   "id": "b7689ca4e4b97b24",
   "metadata": {
    "ExecuteTime": {
     "end_time": "2025-10-30T20:47:56.564550Z",
     "start_time": "2025-10-30T20:47:56.559955Z"
    }
   },
   "source": [
    "# Calcular métricas de error\n",
    "from sklearn.metrics import mean_absolute_error, mean_squared_error\n",
    "\n",
    "y_pred_test_actual = scaler.inverse_transform(y_pred_test.numpy())\n",
    "\n",
    "mae = mean_absolute_error(y_test_actual, y_pred_test_actual)\n",
    "mse = mean_squared_error(y_test_actual, y_pred_test_actual)\n",
    "rmse = np.sqrt(mse)\n",
    "\n",
    "print(f\"\\n=== MÉTRICAS DE EVALUACIÓN ===\")\n",
    "print(f\"Error Absoluto Medio (MAE): ${mae:.2f}\")\n",
    "print(f\"Error Cuadrático Medio (MSE): ${mse:.2f}\")\n",
    "print(f\"Raíz del Error Cuadrático Medio (RMSE): ${rmse:.2f}\")"
   ],
   "outputs": [
    {
     "name": "stdout",
     "output_type": "stream",
     "text": [
      "\n",
      "=== MÉTRICAS DE EVALUACIÓN ===\n",
      "Error Absoluto Medio (MAE): $1100.78\n",
      "Error Cuadrático Medio (MSE): $1821634.24\n",
      "Raíz del Error Cuadrático Medio (RMSE): $1349.68\n"
     ]
    }
   ],
   "execution_count": 30
  }
 ],
 "metadata": {
  "kernelspec": {
   "display_name": "Python 3 (ipykernel)",
   "language": "python",
   "name": "python3"
  },
  "language_info": {
   "codemirror_mode": {
    "name": "ipython",
    "version": 3
   },
   "file_extension": ".py",
   "mimetype": "text/x-python",
   "name": "python",
   "nbconvert_exporter": "python",
   "pygments_lexer": "ipython3",
   "version": "3.13.5"
  }
 },
 "nbformat": 4,
 "nbformat_minor": 5
}
