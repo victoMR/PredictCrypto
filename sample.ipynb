{
 "cells": [
  {
   "cell_type": "markdown",
   "id": "a0fdd53dcf3380f9",
   "metadata": {},
   "source": [
    "# Creación de neurona artificial para ETH\n"
   ]
  },
  {
   "cell_type": "code",
   "id": "211389c622429cc4",
   "metadata": {
    "ExecuteTime": {
     "end_time": "2025-10-20T15:11:17.056786Z",
     "start_time": "2025-10-20T15:11:10.062144Z"
    }
   },
   "source": [
    "import tensorflow as tf\n",
    "import pandas as pd\n",
    "import numpy as np\n",
    "import matplotlib.pyplot as plt\n",
    "import yfinance as yf\n",
    "from sklearn.preprocessing import MinMaxScaler\n",
    "from sklearn.model_selection import train_test_split\n",
    "\n",
    "print(\"TensorFlow version:\", tf.__version__)\n",
    "print(\"Verion 1.0.0 del algoritmo\")"
   ],
   "outputs": [
    {
     "name": "stdout",
     "output_type": "stream",
     "text": [
      "TensorFlow version: 2.20.0\n"
     ]
    }
   ],
   "execution_count": 1
  },
  {
   "cell_type": "markdown",
   "id": "77090c0eb7ff1473",
   "metadata": {},
   "source": [
    "## Descargar datos de Ethereum"
   ]
  },
  {
   "cell_type": "code",
   "id": "f5ed42eb826a563e",
   "metadata": {
    "ExecuteTime": {
     "end_time": "2025-10-20T15:11:21.731103Z",
     "start_time": "2025-10-20T15:11:17.084985Z"
    }
   },
   "source": [
    "# Descargar datos históricos de Ethereum\n",
    "eth = yf.download('ETH-USD', start='2020-01-01', end='2025-10-20')\n",
    "\n",
    "# Mostrar las primeras filas\n",
    "print(eth.head())\n",
    "print(\"\\nForma de los datos:\", eth.shape)"
   ],
   "outputs": [
    {
     "name": "stderr",
     "output_type": "stream",
     "text": [
      "C:\\Users\\raton\\AppData\\Local\\Temp\\ipykernel_27364\\3822267417.py:2: FutureWarning: YF.download() has changed argument auto_adjust default to True\n",
      "  eth = yf.download('ETH-USD', start='2020-01-01', end='2025-10-20')\n",
      "[*********************100%***********************]  1 of 1 completed"
     ]
    },
    {
     "name": "stdout",
     "output_type": "stream",
     "text": [
      "Price            Close        High         Low        Open       Volume\n",
      "Ticker         ETH-USD     ETH-USD     ETH-USD     ETH-USD      ETH-USD\n",
      "Date                                                                   \n",
      "2020-01-01  130.802002  132.835358  129.198288  129.630661   7935230330\n",
      "2020-01-02  127.410179  130.820038  126.954910  130.820038   8032709256\n",
      "2020-01-03  134.171707  134.554016  126.490021  127.411263  10476845358\n",
      "2020-01-04  135.069366  136.052719  133.040558  134.168518   7430904515\n",
      "2020-01-05  136.276779  139.410202  135.045624  135.072098   7526675353\n",
      "\n",
      "Forma de los datos: (2119, 5)\n"
     ]
    },
    {
     "name": "stderr",
     "output_type": "stream",
     "text": [
      "\n"
     ]
    }
   ],
   "execution_count": 2
  },
  {
   "cell_type": "markdown",
   "id": "50d3585caf3e2206",
   "metadata": {},
   "source": [
    "## Preprocesamiento de datos"
   ]
  },
  {
   "cell_type": "code",
   "id": "528210cce76405ad",
   "metadata": {
    "ExecuteTime": {
     "end_time": "2025-10-20T15:11:21.754858Z",
     "start_time": "2025-10-20T15:11:21.745850Z"
    }
   },
   "source": [
    "# Usaremos solo el precio de cierre\n",
    "data = eth[['Close']].values\n",
    "\n",
    "# Normalizar los datos entre 0 y 1\n",
    "scaler = MinMaxScaler(feature_range=(0, 1))\n",
    "data_scaled = scaler.fit_transform(data)\n",
    "\n",
    "# Crear secuencias para entrenamiento\n",
    "def create_sequences(data, sequence_length=10):\n",
    "    X, y = [], []\n",
    "    for i in range(len(data) - sequence_length):\n",
    "        X.append(data[i:(i + sequence_length), 0])\n",
    "        y.append(data[i + sequence_length, 0])\n",
    "    return np.array(X), np.array(y)\n",
    "\n",
    "sequence_length = 10\n",
    "X, y = create_sequences(data_scaled, sequence_length)\n",
    "\n",
    "print(f\"Forma de X: {X.shape}\")\n",
    "print(f\"Forma de y: {y.shape}\")"
   ],
   "outputs": [
    {
     "name": "stdout",
     "output_type": "stream",
     "text": [
      "Forma de X: (2109, 10)\n",
      "Forma de y: (2109,)\n"
     ]
    }
   ],
   "execution_count": 3
  },
  {
   "cell_type": "markdown",
   "id": "4c79c1d80c5973bf",
   "metadata": {},
   "source": [
    "## Definir la estructura de una sola neurona"
   ]
  },
  {
   "cell_type": "code",
   "id": "a125d34e71f8b537",
   "metadata": {
    "ExecuteTime": {
     "end_time": "2025-10-20T15:11:21.875810Z",
     "start_time": "2025-10-20T15:11:21.773383Z"
    }
   },
   "source": [
    "# UNA SOLA NEURONA usando TensorFlow\n",
    "class SingleNeuron:\n",
    "    def __init__(self, input_dim):\n",
    "        # Inicializar pesos y sesgo (bias)\n",
    "        self.W = tf.Variable(tf.random.normal([input_dim, 1], stddev=0.1), name='weights')\n",
    "        self.b = tf.Variable(tf.zeros([1]), name='bias')\n",
    "\n",
    "    def __call__(self, x):\n",
    "        # Forward pass: y = Wx + b\n",
    "        return tf.matmul(x, self.W) + self.b\n",
    "\n",
    "    def get_weights(self):\n",
    "        return self.W.numpy(), self.b.numpy()\n",
    "\n",
    "# Crear la neurona\n",
    "neurona = SingleNeuron(input_dim=sequence_length)\n",
    "print(\"Neurona creada exitosamente!\")\n",
    "print(f\"Pesos iniciales: {neurona.get_weights()[0].flatten()}\")\n",
    "print(f\"Sesgo inicial: {neurona.get_weights()[1]}\")"
   ],
   "outputs": [
    {
     "name": "stdout",
     "output_type": "stream",
     "text": [
      "Neurona creada exitosamente!\n",
      "Pesos iniciales: [ 0.05126316  0.12229329  0.11664631  0.04858274  0.00503414 -0.06679075\n",
      " -0.04160846 -0.03201373 -0.0681298   0.15162387]\n",
      "Sesgo inicial: [0.]\n"
     ]
    }
   ],
   "execution_count": 4
  },
  {
   "cell_type": "markdown",
   "id": "3cee932a4e5592ea",
   "metadata": {},
   "source": [
    "## Función de pérdida y optimizador"
   ]
  },
  {
   "cell_type": "code",
   "id": "dd34cd6f0aa13628",
   "metadata": {
    "ExecuteTime": {
     "end_time": "2025-10-20T15:11:21.909752Z",
     "start_time": "2025-10-20T15:11:21.890211Z"
    }
   },
   "source": [
    "# Función de pérdida (Error Cuadrático Medio)\n",
    "def loss_fn(y_true, y_pred):\n",
    "    return tf.reduce_mean(tf.square(y_true - y_pred))\n",
    "\n",
    "# Optimizador (Descenso de Gradiente)\n",
    "optimizer = tf.optimizers.Adam(learning_rate=0.001)\n",
    "\n",
    "# Dividir datos en entrenamiento y prueba\n",
    "X_train, X_test, y_train, y_test = train_test_split(X, y, test_size=0.2, shuffle=False)\n",
    "\n",
    "print(f\"Datos de entrenamiento: {X_train.shape}\")\n",
    "print(f\"Datos de prueba: {X_test.shape}\")"
   ],
   "outputs": [
    {
     "name": "stdout",
     "output_type": "stream",
     "text": [
      "Datos de entrenamiento: (1687, 10)\n",
      "Datos de prueba: (422, 10)\n"
     ]
    }
   ],
   "execution_count": 5
  },
  {
   "cell_type": "markdown",
   "id": "df84f0139b7d62e1",
   "metadata": {},
   "source": [
    "## Entrenamiento de la neurona"
   ]
  },
  {
   "cell_type": "code",
   "id": "38661e3460ffc753",
   "metadata": {
    "ExecuteTime": {
     "end_time": "2025-10-20T15:14:21.338638Z",
     "start_time": "2025-10-20T15:11:21.925740Z"
    }
   },
   "source": [
    "# Historial de pérdidas\n",
    "train_losses = []\n",
    "test_losses = []\n",
    "\n",
    "# Entrenamiento\n",
    "epochs = 10000\n",
    "for epoch in range(epochs):\n",
    "    with tf.GradientTape() as tape:\n",
    "        # Forward pass\n",
    "        y_pred = neurona(X_train.astype(np.float32))\n",
    "        loss = loss_fn(y_train.astype(np.float32), y_pred)\n",
    "\n",
    "    # Backward pass\n",
    "    gradients = tape.gradient(loss, [neurona.W, neurona.b])\n",
    "    optimizer.apply_gradients(zip(gradients, [neurona.W, neurona.b]))\n",
    "\n",
    "    # Calcular pérdida en test\n",
    "    y_test_pred = neurona(X_test.astype(np.float32))\n",
    "    test_loss = loss_fn(y_test.astype(np.float32), y_test_pred)\n",
    "\n",
    "    train_losses.append(loss.numpy())\n",
    "    test_losses.append(test_loss.numpy())\n",
    "\n",
    "    if epoch % 20 == 0:\n",
    "        print(f\"Época {epoch}: Pérdida entrenamiento = {loss.numpy():.6f}, Pérdida prueba = {test_loss.numpy():.6f}\")\n",
    "\n",
    "print(\"\\n¡Entrenamiento completado!\")"
   ],
   "outputs": [
    {
     "name": "stdout",
     "output_type": "stream",
     "text": [
      "Época 0: Pérdida entrenamiento = 0.138963, Pérdida prueba = 0.218872\n",
      "Época 20: Pérdida entrenamiento = 0.105389, Pérdida prueba = 0.126065\n",
      "Época 40: Pérdida entrenamiento = 0.093866, Pérdida prueba = 0.083372\n",
      "Época 60: Pérdida entrenamiento = 0.091154, Pérdida prueba = 0.071778\n",
      "Época 80: Pérdida entrenamiento = 0.089040, Pérdida prueba = 0.071448\n",
      "Época 100: Pérdida entrenamiento = 0.086841, Pérdida prueba = 0.072904\n",
      "Época 120: Pérdida entrenamiento = 0.084677, Pérdida prueba = 0.073252\n",
      "Época 140: Pérdida entrenamiento = 0.082565, Pérdida prueba = 0.073091\n",
      "Época 160: Pérdida entrenamiento = 0.080529, Pérdida prueba = 0.073068\n",
      "Época 180: Pérdida entrenamiento = 0.078589, Pérdida prueba = 0.073158\n",
      "Época 200: Pérdida entrenamiento = 0.076753, Pérdida prueba = 0.073263\n",
      "Época 220: Pérdida entrenamiento = 0.075029, Pérdida prueba = 0.073390\n",
      "Época 240: Pérdida entrenamiento = 0.073420, Pérdida prueba = 0.073551\n",
      "Época 260: Pérdida entrenamiento = 0.071926, Pérdida prueba = 0.073743\n",
      "Época 280: Pérdida entrenamiento = 0.070547, Pérdida prueba = 0.073961\n",
      "Época 300: Pérdida entrenamiento = 0.069278, Pérdida prueba = 0.074205\n",
      "Época 320: Pérdida entrenamiento = 0.068117, Pérdida prueba = 0.074471\n",
      "Época 340: Pérdida entrenamiento = 0.067059, Pérdida prueba = 0.074756\n",
      "Época 360: Pérdida entrenamiento = 0.066099, Pérdida prueba = 0.075058\n",
      "Época 380: Pérdida entrenamiento = 0.065230, Pérdida prueba = 0.075374\n",
      "Época 400: Pérdida entrenamiento = 0.064449, Pérdida prueba = 0.075700\n",
      "Época 420: Pérdida entrenamiento = 0.063747, Pérdida prueba = 0.076034\n",
      "Época 440: Pérdida entrenamiento = 0.063121, Pérdida prueba = 0.076373\n",
      "Época 460: Pérdida entrenamiento = 0.062563, Pérdida prueba = 0.076715\n",
      "Época 480: Pérdida entrenamiento = 0.062069, Pérdida prueba = 0.077057\n",
      "Época 500: Pérdida entrenamiento = 0.061632, Pérdida prueba = 0.077397\n",
      "Época 520: Pérdida entrenamiento = 0.061248, Pérdida prueba = 0.077733\n",
      "Época 540: Pérdida entrenamiento = 0.060912, Pérdida prueba = 0.078063\n",
      "Época 560: Pérdida entrenamiento = 0.060618, Pérdida prueba = 0.078386\n",
      "Época 580: Pérdida entrenamiento = 0.060362, Pérdida prueba = 0.078700\n",
      "Época 600: Pérdida entrenamiento = 0.060141, Pérdida prueba = 0.079004\n",
      "Época 620: Pérdida entrenamiento = 0.059950, Pérdida prueba = 0.079297\n",
      "Época 640: Pérdida entrenamiento = 0.059786, Pérdida prueba = 0.079578\n",
      "Época 660: Pérdida entrenamiento = 0.059645, Pérdida prueba = 0.079846\n",
      "Época 680: Pérdida entrenamiento = 0.059526, Pérdida prueba = 0.080102\n",
      "Época 700: Pérdida entrenamiento = 0.059424, Pérdida prueba = 0.080344\n",
      "Época 720: Pérdida entrenamiento = 0.059338, Pérdida prueba = 0.080572\n",
      "Época 740: Pérdida entrenamiento = 0.059265, Pérdida prueba = 0.080787\n",
      "Época 760: Pérdida entrenamiento = 0.059204, Pérdida prueba = 0.080988\n",
      "Época 780: Pérdida entrenamiento = 0.059153, Pérdida prueba = 0.081176\n",
      "Época 800: Pérdida entrenamiento = 0.059111, Pérdida prueba = 0.081351\n",
      "Época 820: Pérdida entrenamiento = 0.059076, Pérdida prueba = 0.081514\n",
      "Época 840: Pérdida entrenamiento = 0.059047, Pérdida prueba = 0.081664\n",
      "Época 860: Pérdida entrenamiento = 0.059023, Pérdida prueba = 0.081802\n",
      "Época 880: Pérdida entrenamiento = 0.059003, Pérdida prueba = 0.081929\n",
      "Época 900: Pérdida entrenamiento = 0.058987, Pérdida prueba = 0.082046\n",
      "Época 920: Pérdida entrenamiento = 0.058974, Pérdida prueba = 0.082152\n",
      "Época 940: Pérdida entrenamiento = 0.058963, Pérdida prueba = 0.082249\n",
      "Época 960: Pérdida entrenamiento = 0.058954, Pérdida prueba = 0.082337\n",
      "Época 980: Pérdida entrenamiento = 0.058947, Pérdida prueba = 0.082416\n",
      "Época 1000: Pérdida entrenamiento = 0.058942, Pérdida prueba = 0.082488\n",
      "Época 1020: Pérdida entrenamiento = 0.058937, Pérdida prueba = 0.082552\n",
      "Época 1040: Pérdida entrenamiento = 0.058933, Pérdida prueba = 0.082610\n",
      "Época 1060: Pérdida entrenamiento = 0.058930, Pérdida prueba = 0.082662\n",
      "Época 1080: Pérdida entrenamiento = 0.058928, Pérdida prueba = 0.082708\n",
      "Época 1100: Pérdida entrenamiento = 0.058926, Pérdida prueba = 0.082749\n",
      "Época 1120: Pérdida entrenamiento = 0.058924, Pérdida prueba = 0.082785\n",
      "Época 1140: Pérdida entrenamiento = 0.058923, Pérdida prueba = 0.082817\n",
      "Época 1160: Pérdida entrenamiento = 0.058922, Pérdida prueba = 0.082845\n",
      "Época 1180: Pérdida entrenamiento = 0.058921, Pérdida prueba = 0.082869\n",
      "Época 1200: Pérdida entrenamiento = 0.058920, Pérdida prueba = 0.082891\n",
      "Época 1220: Pérdida entrenamiento = 0.058919, Pérdida prueba = 0.082909\n",
      "Época 1240: Pérdida entrenamiento = 0.058919, Pérdida prueba = 0.082925\n",
      "Época 1260: Pérdida entrenamiento = 0.058918, Pérdida prueba = 0.082939\n",
      "Época 1280: Pérdida entrenamiento = 0.058917, Pérdida prueba = 0.082951\n",
      "Época 1300: Pérdida entrenamiento = 0.058917, Pérdida prueba = 0.082961\n",
      "Época 1320: Pérdida entrenamiento = 0.058917, Pérdida prueba = 0.082969\n",
      "Época 1340: Pérdida entrenamiento = 0.058916, Pérdida prueba = 0.082976\n",
      "Época 1360: Pérdida entrenamiento = 0.058916, Pérdida prueba = 0.082982\n",
      "Época 1380: Pérdida entrenamiento = 0.058915, Pérdida prueba = 0.082987\n",
      "Época 1400: Pérdida entrenamiento = 0.058915, Pérdida prueba = 0.082991\n",
      "Época 1420: Pérdida entrenamiento = 0.058914, Pérdida prueba = 0.082994\n",
      "Época 1440: Pérdida entrenamiento = 0.058914, Pérdida prueba = 0.082996\n",
      "Época 1460: Pérdida entrenamiento = 0.058914, Pérdida prueba = 0.082998\n",
      "Época 1480: Pérdida entrenamiento = 0.058913, Pérdida prueba = 0.082999\n",
      "Época 1500: Pérdida entrenamiento = 0.058913, Pérdida prueba = 0.083000\n",
      "Época 1520: Pérdida entrenamiento = 0.058913, Pérdida prueba = 0.083000\n",
      "Época 1540: Pérdida entrenamiento = 0.058912, Pérdida prueba = 0.083000\n",
      "Época 1560: Pérdida entrenamiento = 0.058912, Pérdida prueba = 0.083000\n",
      "Época 1580: Pérdida entrenamiento = 0.058912, Pérdida prueba = 0.083000\n",
      "Época 1600: Pérdida entrenamiento = 0.058911, Pérdida prueba = 0.082999\n",
      "Época 1620: Pérdida entrenamiento = 0.058911, Pérdida prueba = 0.082998\n",
      "Época 1640: Pérdida entrenamiento = 0.058911, Pérdida prueba = 0.082997\n",
      "Época 1660: Pérdida entrenamiento = 0.058910, Pérdida prueba = 0.082996\n",
      "Época 1680: Pérdida entrenamiento = 0.058910, Pérdida prueba = 0.082995\n",
      "Época 1700: Pérdida entrenamiento = 0.058910, Pérdida prueba = 0.082994\n",
      "Época 1720: Pérdida entrenamiento = 0.058909, Pérdida prueba = 0.082992\n",
      "Época 1740: Pérdida entrenamiento = 0.058909, Pérdida prueba = 0.082991\n",
      "Época 1760: Pérdida entrenamiento = 0.058909, Pérdida prueba = 0.082989\n",
      "Época 1780: Pérdida entrenamiento = 0.058908, Pérdida prueba = 0.082988\n",
      "Época 1800: Pérdida entrenamiento = 0.058908, Pérdida prueba = 0.082986\n",
      "Época 1820: Pérdida entrenamiento = 0.058908, Pérdida prueba = 0.082985\n",
      "Época 1840: Pérdida entrenamiento = 0.058907, Pérdida prueba = 0.082983\n",
      "Época 1860: Pérdida entrenamiento = 0.058907, Pérdida prueba = 0.082982\n",
      "Época 1880: Pérdida entrenamiento = 0.058907, Pérdida prueba = 0.082980\n",
      "Época 1900: Pérdida entrenamiento = 0.058906, Pérdida prueba = 0.082979\n",
      "Época 1920: Pérdida entrenamiento = 0.058906, Pérdida prueba = 0.082977\n",
      "Época 1940: Pérdida entrenamiento = 0.058906, Pérdida prueba = 0.082976\n",
      "Época 1960: Pérdida entrenamiento = 0.058906, Pérdida prueba = 0.082974\n",
      "Época 1980: Pérdida entrenamiento = 0.058905, Pérdida prueba = 0.082973\n",
      "Época 2000: Pérdida entrenamiento = 0.058905, Pérdida prueba = 0.082971\n",
      "Época 2020: Pérdida entrenamiento = 0.058905, Pérdida prueba = 0.082970\n",
      "Época 2040: Pérdida entrenamiento = 0.058905, Pérdida prueba = 0.082969\n",
      "Época 2060: Pérdida entrenamiento = 0.058904, Pérdida prueba = 0.082967\n",
      "Época 2080: Pérdida entrenamiento = 0.058904, Pérdida prueba = 0.082966\n",
      "Época 2100: Pérdida entrenamiento = 0.058904, Pérdida prueba = 0.082964\n",
      "Época 2120: Pérdida entrenamiento = 0.058904, Pérdida prueba = 0.082963\n",
      "Época 2140: Pérdida entrenamiento = 0.058903, Pérdida prueba = 0.082962\n",
      "Época 2160: Pérdida entrenamiento = 0.058903, Pérdida prueba = 0.082960\n",
      "Época 2180: Pérdida entrenamiento = 0.058903, Pérdida prueba = 0.082959\n",
      "Época 2200: Pérdida entrenamiento = 0.058903, Pérdida prueba = 0.082958\n",
      "Época 2220: Pérdida entrenamiento = 0.058902, Pérdida prueba = 0.082957\n",
      "Época 2240: Pérdida entrenamiento = 0.058902, Pérdida prueba = 0.082955\n",
      "Época 2260: Pérdida entrenamiento = 0.058902, Pérdida prueba = 0.082954\n",
      "Época 2280: Pérdida entrenamiento = 0.058902, Pérdida prueba = 0.082953\n",
      "Época 2300: Pérdida entrenamiento = 0.058901, Pérdida prueba = 0.082952\n",
      "Época 2320: Pérdida entrenamiento = 0.058901, Pérdida prueba = 0.082951\n",
      "Época 2340: Pérdida entrenamiento = 0.058901, Pérdida prueba = 0.082949\n",
      "Época 2360: Pérdida entrenamiento = 0.058901, Pérdida prueba = 0.082948\n",
      "Época 2380: Pérdida entrenamiento = 0.058901, Pérdida prueba = 0.082947\n",
      "Época 2400: Pérdida entrenamiento = 0.058900, Pérdida prueba = 0.082946\n",
      "Época 2420: Pérdida entrenamiento = 0.058900, Pérdida prueba = 0.082945\n",
      "Época 2440: Pérdida entrenamiento = 0.058900, Pérdida prueba = 0.082944\n",
      "Época 2460: Pérdida entrenamiento = 0.058900, Pérdida prueba = 0.082943\n",
      "Época 2480: Pérdida entrenamiento = 0.058900, Pérdida prueba = 0.082942\n",
      "Época 2500: Pérdida entrenamiento = 0.058899, Pérdida prueba = 0.082941\n",
      "Época 2520: Pérdida entrenamiento = 0.058899, Pérdida prueba = 0.082940\n",
      "Época 2540: Pérdida entrenamiento = 0.058899, Pérdida prueba = 0.082939\n",
      "Época 2560: Pérdida entrenamiento = 0.058899, Pérdida prueba = 0.082938\n",
      "Época 2580: Pérdida entrenamiento = 0.058899, Pérdida prueba = 0.082937\n",
      "Época 2600: Pérdida entrenamiento = 0.058898, Pérdida prueba = 0.082936\n",
      "Época 2620: Pérdida entrenamiento = 0.058898, Pérdida prueba = 0.082935\n",
      "Época 2640: Pérdida entrenamiento = 0.058898, Pérdida prueba = 0.082935\n",
      "Época 2660: Pérdida entrenamiento = 0.058898, Pérdida prueba = 0.082934\n",
      "Época 2680: Pérdida entrenamiento = 0.058898, Pérdida prueba = 0.082933\n",
      "Época 2700: Pérdida entrenamiento = 0.058898, Pérdida prueba = 0.082932\n",
      "Época 2720: Pérdida entrenamiento = 0.058897, Pérdida prueba = 0.082931\n",
      "Época 2740: Pérdida entrenamiento = 0.058897, Pérdida prueba = 0.082931\n",
      "Época 2760: Pérdida entrenamiento = 0.058897, Pérdida prueba = 0.082930\n",
      "Época 2780: Pérdida entrenamiento = 0.058897, Pérdida prueba = 0.082929\n",
      "Época 2800: Pérdida entrenamiento = 0.058897, Pérdida prueba = 0.082929\n",
      "Época 2820: Pérdida entrenamiento = 0.058897, Pérdida prueba = 0.082928\n",
      "Época 2840: Pérdida entrenamiento = 0.058897, Pérdida prueba = 0.082927\n",
      "Época 2860: Pérdida entrenamiento = 0.058896, Pérdida prueba = 0.082927\n",
      "Época 2880: Pérdida entrenamiento = 0.058896, Pérdida prueba = 0.082926\n",
      "Época 2900: Pérdida entrenamiento = 0.058896, Pérdida prueba = 0.082926\n",
      "Época 2920: Pérdida entrenamiento = 0.058896, Pérdida prueba = 0.082925\n",
      "Época 2940: Pérdida entrenamiento = 0.058896, Pérdida prueba = 0.082925\n",
      "Época 2960: Pérdida entrenamiento = 0.058896, Pérdida prueba = 0.082924\n",
      "Época 2980: Pérdida entrenamiento = 0.058895, Pérdida prueba = 0.082924\n",
      "Época 3000: Pérdida entrenamiento = 0.058895, Pérdida prueba = 0.082923\n",
      "Época 3020: Pérdida entrenamiento = 0.058895, Pérdida prueba = 0.082923\n",
      "Época 3040: Pérdida entrenamiento = 0.058895, Pérdida prueba = 0.082922\n",
      "Época 3060: Pérdida entrenamiento = 0.058895, Pérdida prueba = 0.082922\n",
      "Época 3080: Pérdida entrenamiento = 0.058895, Pérdida prueba = 0.082921\n",
      "Época 3100: Pérdida entrenamiento = 0.058895, Pérdida prueba = 0.082921\n",
      "Época 3120: Pérdida entrenamiento = 0.058895, Pérdida prueba = 0.082921\n",
      "Época 3140: Pérdida entrenamiento = 0.058894, Pérdida prueba = 0.082920\n",
      "Época 3160: Pérdida entrenamiento = 0.058894, Pérdida prueba = 0.082920\n",
      "Época 3180: Pérdida entrenamiento = 0.058894, Pérdida prueba = 0.082920\n",
      "Época 3200: Pérdida entrenamiento = 0.058894, Pérdida prueba = 0.082919\n",
      "Época 3220: Pérdida entrenamiento = 0.058894, Pérdida prueba = 0.082919\n",
      "Época 3240: Pérdida entrenamiento = 0.058894, Pérdida prueba = 0.082919\n",
      "Época 3260: Pérdida entrenamiento = 0.058894, Pérdida prueba = 0.082919\n",
      "Época 3280: Pérdida entrenamiento = 0.058894, Pérdida prueba = 0.082918\n",
      "Época 3300: Pérdida entrenamiento = 0.058893, Pérdida prueba = 0.082918\n",
      "Época 3320: Pérdida entrenamiento = 0.058893, Pérdida prueba = 0.082918\n",
      "Época 3340: Pérdida entrenamiento = 0.058893, Pérdida prueba = 0.082918\n",
      "Época 3360: Pérdida entrenamiento = 0.058893, Pérdida prueba = 0.082918\n",
      "Época 3380: Pérdida entrenamiento = 0.058893, Pérdida prueba = 0.082917\n",
      "Época 3400: Pérdida entrenamiento = 0.058893, Pérdida prueba = 0.082917\n",
      "Época 3420: Pérdida entrenamiento = 0.058893, Pérdida prueba = 0.082917\n",
      "Época 3440: Pérdida entrenamiento = 0.058893, Pérdida prueba = 0.082917\n",
      "Época 3460: Pérdida entrenamiento = 0.058892, Pérdida prueba = 0.082917\n",
      "Época 3480: Pérdida entrenamiento = 0.058892, Pérdida prueba = 0.082917\n",
      "Época 3500: Pérdida entrenamiento = 0.058892, Pérdida prueba = 0.082917\n",
      "Época 3520: Pérdida entrenamiento = 0.058892, Pérdida prueba = 0.082917\n",
      "Época 3540: Pérdida entrenamiento = 0.058892, Pérdida prueba = 0.082917\n",
      "Época 3560: Pérdida entrenamiento = 0.058892, Pérdida prueba = 0.082917\n",
      "Época 3580: Pérdida entrenamiento = 0.058892, Pérdida prueba = 0.082917\n",
      "Época 3600: Pérdida entrenamiento = 0.058892, Pérdida prueba = 0.082917\n",
      "Época 3620: Pérdida entrenamiento = 0.058892, Pérdida prueba = 0.082917\n",
      "Época 3640: Pérdida entrenamiento = 0.058892, Pérdida prueba = 0.082917\n",
      "Época 3660: Pérdida entrenamiento = 0.058891, Pérdida prueba = 0.082917\n",
      "Época 3680: Pérdida entrenamiento = 0.058891, Pérdida prueba = 0.082917\n",
      "Época 3700: Pérdida entrenamiento = 0.058891, Pérdida prueba = 0.082917\n",
      "Época 3720: Pérdida entrenamiento = 0.058891, Pérdida prueba = 0.082917\n",
      "Época 3740: Pérdida entrenamiento = 0.058891, Pérdida prueba = 0.082917\n",
      "Época 3760: Pérdida entrenamiento = 0.058891, Pérdida prueba = 0.082917\n",
      "Época 3780: Pérdida entrenamiento = 0.058891, Pérdida prueba = 0.082917\n",
      "Época 3800: Pérdida entrenamiento = 0.058891, Pérdida prueba = 0.082917\n",
      "Época 3820: Pérdida entrenamiento = 0.058891, Pérdida prueba = 0.082918\n",
      "Época 3840: Pérdida entrenamiento = 0.058890, Pérdida prueba = 0.082918\n",
      "Época 3860: Pérdida entrenamiento = 0.058890, Pérdida prueba = 0.082918\n",
      "Época 3880: Pérdida entrenamiento = 0.058890, Pérdida prueba = 0.082918\n",
      "Época 3900: Pérdida entrenamiento = 0.058890, Pérdida prueba = 0.082918\n",
      "Época 3920: Pérdida entrenamiento = 0.058890, Pérdida prueba = 0.082918\n",
      "Época 3940: Pérdida entrenamiento = 0.058890, Pérdida prueba = 0.082919\n",
      "Época 3960: Pérdida entrenamiento = 0.058890, Pérdida prueba = 0.082919\n",
      "Época 3980: Pérdida entrenamiento = 0.058890, Pérdida prueba = 0.082919\n",
      "Época 4000: Pérdida entrenamiento = 0.058890, Pérdida prueba = 0.082919\n",
      "Época 4020: Pérdida entrenamiento = 0.058890, Pérdida prueba = 0.082919\n",
      "Época 4040: Pérdida entrenamiento = 0.058890, Pérdida prueba = 0.082920\n",
      "Época 4060: Pérdida entrenamiento = 0.058889, Pérdida prueba = 0.082920\n",
      "Época 4080: Pérdida entrenamiento = 0.058889, Pérdida prueba = 0.082920\n",
      "Época 4100: Pérdida entrenamiento = 0.058889, Pérdida prueba = 0.082920\n",
      "Época 4120: Pérdida entrenamiento = 0.058889, Pérdida prueba = 0.082920\n",
      "Época 4140: Pérdida entrenamiento = 0.058889, Pérdida prueba = 0.082921\n",
      "Época 4160: Pérdida entrenamiento = 0.058889, Pérdida prueba = 0.082921\n",
      "Época 4180: Pérdida entrenamiento = 0.058889, Pérdida prueba = 0.082921\n",
      "Época 4200: Pérdida entrenamiento = 0.058889, Pérdida prueba = 0.082921\n",
      "Época 4220: Pérdida entrenamiento = 0.058889, Pérdida prueba = 0.082922\n",
      "Época 4240: Pérdida entrenamiento = 0.058889, Pérdida prueba = 0.082922\n",
      "Época 4260: Pérdida entrenamiento = 0.058889, Pérdida prueba = 0.082922\n",
      "Época 4280: Pérdida entrenamiento = 0.058889, Pérdida prueba = 0.082922\n",
      "Época 4300: Pérdida entrenamiento = 0.058888, Pérdida prueba = 0.082923\n",
      "Época 4320: Pérdida entrenamiento = 0.058888, Pérdida prueba = 0.082923\n",
      "Época 4340: Pérdida entrenamiento = 0.058888, Pérdida prueba = 0.082923\n",
      "Época 4360: Pérdida entrenamiento = 0.058888, Pérdida prueba = 0.082924\n",
      "Época 4380: Pérdida entrenamiento = 0.058888, Pérdida prueba = 0.082924\n",
      "Época 4400: Pérdida entrenamiento = 0.058888, Pérdida prueba = 0.082924\n",
      "Época 4420: Pérdida entrenamiento = 0.058888, Pérdida prueba = 0.082924\n",
      "Época 4440: Pérdida entrenamiento = 0.058888, Pérdida prueba = 0.082925\n",
      "Época 4460: Pérdida entrenamiento = 0.058888, Pérdida prueba = 0.082925\n",
      "Época 4480: Pérdida entrenamiento = 0.058888, Pérdida prueba = 0.082925\n",
      "Época 4500: Pérdida entrenamiento = 0.058888, Pérdida prueba = 0.082926\n",
      "Época 4520: Pérdida entrenamiento = 0.058888, Pérdida prueba = 0.082926\n",
      "Época 4540: Pérdida entrenamiento = 0.058888, Pérdida prueba = 0.082926\n",
      "Época 4560: Pérdida entrenamiento = 0.058888, Pérdida prueba = 0.082927\n",
      "Época 4580: Pérdida entrenamiento = 0.058887, Pérdida prueba = 0.082927\n",
      "Época 4600: Pérdida entrenamiento = 0.058887, Pérdida prueba = 0.082927\n",
      "Época 4620: Pérdida entrenamiento = 0.058887, Pérdida prueba = 0.082927\n",
      "Época 4640: Pérdida entrenamiento = 0.058887, Pérdida prueba = 0.082928\n",
      "Época 4660: Pérdida entrenamiento = 0.058887, Pérdida prueba = 0.082928\n",
      "Época 4680: Pérdida entrenamiento = 0.058887, Pérdida prueba = 0.082928\n",
      "Época 4700: Pérdida entrenamiento = 0.058887, Pérdida prueba = 0.082929\n",
      "Época 4720: Pérdida entrenamiento = 0.058887, Pérdida prueba = 0.082929\n",
      "Época 4740: Pérdida entrenamiento = 0.058887, Pérdida prueba = 0.082929\n",
      "Época 4760: Pérdida entrenamiento = 0.058887, Pérdida prueba = 0.082930\n",
      "Época 4780: Pérdida entrenamiento = 0.058887, Pérdida prueba = 0.082930\n",
      "Época 4800: Pérdida entrenamiento = 0.058887, Pérdida prueba = 0.082930\n",
      "Época 4820: Pérdida entrenamiento = 0.058887, Pérdida prueba = 0.082931\n",
      "Época 4840: Pérdida entrenamiento = 0.058887, Pérdida prueba = 0.082931\n",
      "Época 4860: Pérdida entrenamiento = 0.058887, Pérdida prueba = 0.082931\n",
      "Época 4880: Pérdida entrenamiento = 0.058887, Pérdida prueba = 0.082931\n",
      "Época 4900: Pérdida entrenamiento = 0.058887, Pérdida prueba = 0.082932\n",
      "Época 4920: Pérdida entrenamiento = 0.058886, Pérdida prueba = 0.082932\n",
      "Época 4940: Pérdida entrenamiento = 0.058886, Pérdida prueba = 0.082932\n",
      "Época 4960: Pérdida entrenamiento = 0.058886, Pérdida prueba = 0.082933\n",
      "Época 4980: Pérdida entrenamiento = 0.058886, Pérdida prueba = 0.082933\n",
      "Época 5000: Pérdida entrenamiento = 0.058886, Pérdida prueba = 0.082933\n",
      "Época 5020: Pérdida entrenamiento = 0.058886, Pérdida prueba = 0.082934\n",
      "Época 5040: Pérdida entrenamiento = 0.058886, Pérdida prueba = 0.082934\n",
      "Época 5060: Pérdida entrenamiento = 0.058886, Pérdida prueba = 0.082934\n",
      "Época 5080: Pérdida entrenamiento = 0.058886, Pérdida prueba = 0.082934\n",
      "Época 5100: Pérdida entrenamiento = 0.058886, Pérdida prueba = 0.082935\n",
      "Época 5120: Pérdida entrenamiento = 0.058886, Pérdida prueba = 0.082935\n",
      "Época 5140: Pérdida entrenamiento = 0.058886, Pérdida prueba = 0.082935\n",
      "Época 5160: Pérdida entrenamiento = 0.058886, Pérdida prueba = 0.082936\n",
      "Época 5180: Pérdida entrenamiento = 0.058886, Pérdida prueba = 0.082936\n",
      "Época 5200: Pérdida entrenamiento = 0.058886, Pérdida prueba = 0.082936\n",
      "Época 5220: Pérdida entrenamiento = 0.058886, Pérdida prueba = 0.082936\n",
      "Época 5240: Pérdida entrenamiento = 0.058886, Pérdida prueba = 0.082937\n",
      "Época 5260: Pérdida entrenamiento = 0.058886, Pérdida prueba = 0.082937\n",
      "Época 5280: Pérdida entrenamiento = 0.058886, Pérdida prueba = 0.082937\n",
      "Época 5300: Pérdida entrenamiento = 0.058886, Pérdida prueba = 0.082938\n",
      "Época 5320: Pérdida entrenamiento = 0.058886, Pérdida prueba = 0.082938\n",
      "Época 5340: Pérdida entrenamiento = 0.058885, Pérdida prueba = 0.082938\n",
      "Época 5360: Pérdida entrenamiento = 0.058885, Pérdida prueba = 0.082938\n",
      "Época 5380: Pérdida entrenamiento = 0.058885, Pérdida prueba = 0.082939\n",
      "Época 5400: Pérdida entrenamiento = 0.058885, Pérdida prueba = 0.082939\n",
      "Época 5420: Pérdida entrenamiento = 0.058885, Pérdida prueba = 0.082939\n",
      "Época 5440: Pérdida entrenamiento = 0.058885, Pérdida prueba = 0.082939\n",
      "Época 5460: Pérdida entrenamiento = 0.058885, Pérdida prueba = 0.082940\n",
      "Época 5480: Pérdida entrenamiento = 0.058885, Pérdida prueba = 0.082940\n",
      "Época 5500: Pérdida entrenamiento = 0.058885, Pérdida prueba = 0.082940\n",
      "Época 5520: Pérdida entrenamiento = 0.058885, Pérdida prueba = 0.082940\n",
      "Época 5540: Pérdida entrenamiento = 0.058885, Pérdida prueba = 0.082941\n",
      "Época 5560: Pérdida entrenamiento = 0.058885, Pérdida prueba = 0.082941\n",
      "Época 5580: Pérdida entrenamiento = 0.058885, Pérdida prueba = 0.082941\n",
      "Época 5600: Pérdida entrenamiento = 0.058885, Pérdida prueba = 0.082941\n",
      "Época 5620: Pérdida entrenamiento = 0.058885, Pérdida prueba = 0.082942\n",
      "Época 5640: Pérdida entrenamiento = 0.058885, Pérdida prueba = 0.082942\n",
      "Época 5660: Pérdida entrenamiento = 0.058885, Pérdida prueba = 0.082942\n",
      "Época 5680: Pérdida entrenamiento = 0.058885, Pérdida prueba = 0.082942\n",
      "Época 5700: Pérdida entrenamiento = 0.058885, Pérdida prueba = 0.082943\n",
      "Época 5720: Pérdida entrenamiento = 0.058885, Pérdida prueba = 0.082943\n",
      "Época 5740: Pérdida entrenamiento = 0.058885, Pérdida prueba = 0.082943\n",
      "Época 5760: Pérdida entrenamiento = 0.058885, Pérdida prueba = 0.082943\n",
      "Época 5780: Pérdida entrenamiento = 0.058885, Pérdida prueba = 0.082943\n",
      "Época 5800: Pérdida entrenamiento = 0.058885, Pérdida prueba = 0.082944\n",
      "Época 5820: Pérdida entrenamiento = 0.058885, Pérdida prueba = 0.082944\n",
      "Época 5840: Pérdida entrenamiento = 0.058885, Pérdida prueba = 0.082944\n",
      "Época 5860: Pérdida entrenamiento = 0.058885, Pérdida prueba = 0.082944\n",
      "Época 5880: Pérdida entrenamiento = 0.058885, Pérdida prueba = 0.082944\n",
      "Época 5900: Pérdida entrenamiento = 0.058885, Pérdida prueba = 0.082945\n",
      "Época 5920: Pérdida entrenamiento = 0.058885, Pérdida prueba = 0.082945\n",
      "Época 5940: Pérdida entrenamiento = 0.058885, Pérdida prueba = 0.082945\n",
      "Época 5960: Pérdida entrenamiento = 0.058884, Pérdida prueba = 0.082945\n",
      "Época 5980: Pérdida entrenamiento = 0.058884, Pérdida prueba = 0.082945\n",
      "Época 6000: Pérdida entrenamiento = 0.058884, Pérdida prueba = 0.082946\n",
      "Época 6020: Pérdida entrenamiento = 0.058884, Pérdida prueba = 0.082946\n",
      "Época 6040: Pérdida entrenamiento = 0.058884, Pérdida prueba = 0.082946\n",
      "Época 6060: Pérdida entrenamiento = 0.058884, Pérdida prueba = 0.082946\n",
      "Época 6080: Pérdida entrenamiento = 0.058884, Pérdida prueba = 0.082946\n",
      "Época 6100: Pérdida entrenamiento = 0.058884, Pérdida prueba = 0.082946\n",
      "Época 6120: Pérdida entrenamiento = 0.058884, Pérdida prueba = 0.082947\n",
      "Época 6140: Pérdida entrenamiento = 0.058884, Pérdida prueba = 0.082947\n",
      "Época 6160: Pérdida entrenamiento = 0.058884, Pérdida prueba = 0.082947\n",
      "Época 6180: Pérdida entrenamiento = 0.058884, Pérdida prueba = 0.082947\n",
      "Época 6200: Pérdida entrenamiento = 0.058884, Pérdida prueba = 0.082947\n",
      "Época 6220: Pérdida entrenamiento = 0.058884, Pérdida prueba = 0.082947\n",
      "Época 6240: Pérdida entrenamiento = 0.058884, Pérdida prueba = 0.082948\n",
      "Época 6260: Pérdida entrenamiento = 0.058884, Pérdida prueba = 0.082948\n",
      "Época 6280: Pérdida entrenamiento = 0.058884, Pérdida prueba = 0.082948\n",
      "Época 6300: Pérdida entrenamiento = 0.058884, Pérdida prueba = 0.082948\n",
      "Época 6320: Pérdida entrenamiento = 0.058884, Pérdida prueba = 0.082948\n",
      "Época 6340: Pérdida entrenamiento = 0.058884, Pérdida prueba = 0.082948\n",
      "Época 6360: Pérdida entrenamiento = 0.058884, Pérdida prueba = 0.082948\n",
      "Época 6380: Pérdida entrenamiento = 0.058884, Pérdida prueba = 0.082949\n",
      "Época 6400: Pérdida entrenamiento = 0.058884, Pérdida prueba = 0.082949\n",
      "Época 6420: Pérdida entrenamiento = 0.058884, Pérdida prueba = 0.082949\n",
      "Época 6440: Pérdida entrenamiento = 0.058884, Pérdida prueba = 0.082949\n",
      "Época 6460: Pérdida entrenamiento = 0.058884, Pérdida prueba = 0.082949\n",
      "Época 6480: Pérdida entrenamiento = 0.058884, Pérdida prueba = 0.082949\n",
      "Época 6500: Pérdida entrenamiento = 0.058884, Pérdida prueba = 0.082949\n",
      "Época 6520: Pérdida entrenamiento = 0.058884, Pérdida prueba = 0.082949\n",
      "Época 6540: Pérdida entrenamiento = 0.058884, Pérdida prueba = 0.082950\n",
      "Época 6560: Pérdida entrenamiento = 0.058884, Pérdida prueba = 0.082950\n",
      "Época 6580: Pérdida entrenamiento = 0.058884, Pérdida prueba = 0.082950\n",
      "Época 6600: Pérdida entrenamiento = 0.058884, Pérdida prueba = 0.082950\n",
      "Época 6620: Pérdida entrenamiento = 0.058884, Pérdida prueba = 0.082950\n",
      "Época 6640: Pérdida entrenamiento = 0.058884, Pérdida prueba = 0.082950\n",
      "Época 6660: Pérdida entrenamiento = 0.058884, Pérdida prueba = 0.082950\n",
      "Época 6680: Pérdida entrenamiento = 0.058884, Pérdida prueba = 0.082950\n",
      "Época 6700: Pérdida entrenamiento = 0.058884, Pérdida prueba = 0.082950\n",
      "Época 6720: Pérdida entrenamiento = 0.058884, Pérdida prueba = 0.082951\n",
      "Época 6740: Pérdida entrenamiento = 0.058884, Pérdida prueba = 0.082951\n",
      "Época 6760: Pérdida entrenamiento = 0.058884, Pérdida prueba = 0.082951\n",
      "Época 6780: Pérdida entrenamiento = 0.058884, Pérdida prueba = 0.082951\n",
      "Época 6800: Pérdida entrenamiento = 0.058884, Pérdida prueba = 0.082951\n",
      "Época 6820: Pérdida entrenamiento = 0.058884, Pérdida prueba = 0.082951\n",
      "Época 6840: Pérdida entrenamiento = 0.058884, Pérdida prueba = 0.082951\n",
      "Época 6860: Pérdida entrenamiento = 0.058884, Pérdida prueba = 0.082951\n",
      "Época 6880: Pérdida entrenamiento = 0.058884, Pérdida prueba = 0.082951\n",
      "Época 6900: Pérdida entrenamiento = 0.058884, Pérdida prueba = 0.082951\n",
      "Época 6920: Pérdida entrenamiento = 0.058884, Pérdida prueba = 0.082951\n",
      "Época 6940: Pérdida entrenamiento = 0.058884, Pérdida prueba = 0.082952\n",
      "Época 6960: Pérdida entrenamiento = 0.058884, Pérdida prueba = 0.082952\n",
      "Época 6980: Pérdida entrenamiento = 0.058884, Pérdida prueba = 0.082952\n",
      "Época 7000: Pérdida entrenamiento = 0.058884, Pérdida prueba = 0.082952\n",
      "Época 7020: Pérdida entrenamiento = 0.058884, Pérdida prueba = 0.082952\n",
      "Época 7040: Pérdida entrenamiento = 0.058884, Pérdida prueba = 0.082952\n",
      "Época 7060: Pérdida entrenamiento = 0.058884, Pérdida prueba = 0.082952\n",
      "Época 7080: Pérdida entrenamiento = 0.058884, Pérdida prueba = 0.082952\n",
      "Época 7100: Pérdida entrenamiento = 0.058884, Pérdida prueba = 0.082952\n",
      "Época 7120: Pérdida entrenamiento = 0.058884, Pérdida prueba = 0.082952\n",
      "Época 7140: Pérdida entrenamiento = 0.058884, Pérdida prueba = 0.082952\n",
      "Época 7160: Pérdida entrenamiento = 0.058884, Pérdida prueba = 0.082952\n",
      "Época 7180: Pérdida entrenamiento = 0.058884, Pérdida prueba = 0.082952\n",
      "Época 7200: Pérdida entrenamiento = 0.058884, Pérdida prueba = 0.082952\n",
      "Época 7220: Pérdida entrenamiento = 0.058884, Pérdida prueba = 0.082953\n",
      "Época 7240: Pérdida entrenamiento = 0.058884, Pérdida prueba = 0.082953\n",
      "Época 7260: Pérdida entrenamiento = 0.058883, Pérdida prueba = 0.082953\n",
      "Época 7280: Pérdida entrenamiento = 0.058883, Pérdida prueba = 0.082953\n",
      "Época 7300: Pérdida entrenamiento = 0.058883, Pérdida prueba = 0.082953\n",
      "Época 7320: Pérdida entrenamiento = 0.058883, Pérdida prueba = 0.082953\n",
      "Época 7340: Pérdida entrenamiento = 0.058883, Pérdida prueba = 0.082953\n",
      "Época 7360: Pérdida entrenamiento = 0.058883, Pérdida prueba = 0.082953\n",
      "Época 7380: Pérdida entrenamiento = 0.058883, Pérdida prueba = 0.082953\n",
      "Época 7400: Pérdida entrenamiento = 0.058883, Pérdida prueba = 0.082953\n",
      "Época 7420: Pérdida entrenamiento = 0.058883, Pérdida prueba = 0.082953\n",
      "Época 7440: Pérdida entrenamiento = 0.058883, Pérdida prueba = 0.082953\n",
      "Época 7460: Pérdida entrenamiento = 0.058883, Pérdida prueba = 0.082953\n",
      "Época 7480: Pérdida entrenamiento = 0.058883, Pérdida prueba = 0.082953\n",
      "Época 7500: Pérdida entrenamiento = 0.058883, Pérdida prueba = 0.082953\n",
      "Época 7520: Pérdida entrenamiento = 0.058883, Pérdida prueba = 0.082953\n",
      "Época 7540: Pérdida entrenamiento = 0.058883, Pérdida prueba = 0.082953\n",
      "Época 7560: Pérdida entrenamiento = 0.058883, Pérdida prueba = 0.082954\n",
      "Época 7580: Pérdida entrenamiento = 0.058883, Pérdida prueba = 0.082954\n",
      "Época 7600: Pérdida entrenamiento = 0.058883, Pérdida prueba = 0.082954\n",
      "Época 7620: Pérdida entrenamiento = 0.058883, Pérdida prueba = 0.082954\n",
      "Época 7640: Pérdida entrenamiento = 0.058883, Pérdida prueba = 0.082954\n",
      "Época 7660: Pérdida entrenamiento = 0.058883, Pérdida prueba = 0.082954\n",
      "Época 7680: Pérdida entrenamiento = 0.058883, Pérdida prueba = 0.082954\n",
      "Época 7700: Pérdida entrenamiento = 0.058883, Pérdida prueba = 0.082954\n",
      "Época 7720: Pérdida entrenamiento = 0.058883, Pérdida prueba = 0.082954\n",
      "Época 7740: Pérdida entrenamiento = 0.058883, Pérdida prueba = 0.082954\n",
      "Época 7760: Pérdida entrenamiento = 0.058883, Pérdida prueba = 0.082954\n",
      "Época 7780: Pérdida entrenamiento = 0.058883, Pérdida prueba = 0.082954\n",
      "Época 7800: Pérdida entrenamiento = 0.058883, Pérdida prueba = 0.082954\n",
      "Época 7820: Pérdida entrenamiento = 0.058883, Pérdida prueba = 0.082954\n",
      "Época 7840: Pérdida entrenamiento = 0.058883, Pérdida prueba = 0.082954\n",
      "Época 7860: Pérdida entrenamiento = 0.058883, Pérdida prueba = 0.082954\n",
      "Época 7880: Pérdida entrenamiento = 0.058883, Pérdida prueba = 0.082954\n",
      "Época 7900: Pérdida entrenamiento = 0.058883, Pérdida prueba = 0.082954\n",
      "Época 7920: Pérdida entrenamiento = 0.058883, Pérdida prueba = 0.082954\n",
      "Época 7940: Pérdida entrenamiento = 0.058883, Pérdida prueba = 0.082954\n",
      "Época 7960: Pérdida entrenamiento = 0.058883, Pérdida prueba = 0.082954\n",
      "Época 7980: Pérdida entrenamiento = 0.058883, Pérdida prueba = 0.082954\n",
      "Época 8000: Pérdida entrenamiento = 0.058883, Pérdida prueba = 0.082955\n",
      "Época 8020: Pérdida entrenamiento = 0.058883, Pérdida prueba = 0.082955\n",
      "Época 8040: Pérdida entrenamiento = 0.058883, Pérdida prueba = 0.082955\n",
      "Época 8060: Pérdida entrenamiento = 0.058883, Pérdida prueba = 0.082955\n",
      "Época 8080: Pérdida entrenamiento = 0.058883, Pérdida prueba = 0.082955\n",
      "Época 8100: Pérdida entrenamiento = 0.058883, Pérdida prueba = 0.082955\n",
      "Época 8120: Pérdida entrenamiento = 0.058883, Pérdida prueba = 0.082955\n",
      "Época 8140: Pérdida entrenamiento = 0.058883, Pérdida prueba = 0.082955\n",
      "Época 8160: Pérdida entrenamiento = 0.058883, Pérdida prueba = 0.082955\n",
      "Época 8180: Pérdida entrenamiento = 0.058883, Pérdida prueba = 0.082955\n",
      "Época 8200: Pérdida entrenamiento = 0.058883, Pérdida prueba = 0.082955\n",
      "Época 8220: Pérdida entrenamiento = 0.058883, Pérdida prueba = 0.082955\n",
      "Época 8240: Pérdida entrenamiento = 0.058883, Pérdida prueba = 0.082955\n",
      "Época 8260: Pérdida entrenamiento = 0.058883, Pérdida prueba = 0.082955\n",
      "Época 8280: Pérdida entrenamiento = 0.058883, Pérdida prueba = 0.082955\n",
      "Época 8300: Pérdida entrenamiento = 0.058883, Pérdida prueba = 0.082955\n",
      "Época 8320: Pérdida entrenamiento = 0.058883, Pérdida prueba = 0.082955\n",
      "Época 8340: Pérdida entrenamiento = 0.058883, Pérdida prueba = 0.082955\n",
      "Época 8360: Pérdida entrenamiento = 0.058883, Pérdida prueba = 0.082955\n",
      "Época 8380: Pérdida entrenamiento = 0.058883, Pérdida prueba = 0.082955\n",
      "Época 8400: Pérdida entrenamiento = 0.058883, Pérdida prueba = 0.082955\n",
      "Época 8420: Pérdida entrenamiento = 0.058883, Pérdida prueba = 0.082955\n",
      "Época 8440: Pérdida entrenamiento = 0.058883, Pérdida prueba = 0.082955\n",
      "Época 8460: Pérdida entrenamiento = 0.058883, Pérdida prueba = 0.082955\n",
      "Época 8480: Pérdida entrenamiento = 0.058883, Pérdida prueba = 0.082955\n",
      "Época 8500: Pérdida entrenamiento = 0.058883, Pérdida prueba = 0.082955\n",
      "Época 8520: Pérdida entrenamiento = 0.058883, Pérdida prueba = 0.082955\n",
      "Época 8540: Pérdida entrenamiento = 0.058883, Pérdida prueba = 0.082955\n",
      "Época 8560: Pérdida entrenamiento = 0.058883, Pérdida prueba = 0.082955\n",
      "Época 8580: Pérdida entrenamiento = 0.058883, Pérdida prueba = 0.082955\n",
      "Época 8600: Pérdida entrenamiento = 0.058883, Pérdida prueba = 0.082956\n",
      "Época 8620: Pérdida entrenamiento = 0.058883, Pérdida prueba = 0.082956\n",
      "Época 8640: Pérdida entrenamiento = 0.058883, Pérdida prueba = 0.082956\n",
      "Época 8660: Pérdida entrenamiento = 0.058883, Pérdida prueba = 0.082956\n",
      "Época 8680: Pérdida entrenamiento = 0.058883, Pérdida prueba = 0.082956\n",
      "Época 8700: Pérdida entrenamiento = 0.058883, Pérdida prueba = 0.082956\n",
      "Época 8720: Pérdida entrenamiento = 0.058883, Pérdida prueba = 0.082956\n",
      "Época 8740: Pérdida entrenamiento = 0.058883, Pérdida prueba = 0.082956\n",
      "Época 8760: Pérdida entrenamiento = 0.058883, Pérdida prueba = 0.082956\n",
      "Época 8780: Pérdida entrenamiento = 0.058883, Pérdida prueba = 0.082956\n",
      "Época 8800: Pérdida entrenamiento = 0.058883, Pérdida prueba = 0.082956\n",
      "Época 8820: Pérdida entrenamiento = 0.058883, Pérdida prueba = 0.082956\n",
      "Época 8840: Pérdida entrenamiento = 0.058883, Pérdida prueba = 0.082956\n",
      "Época 8860: Pérdida entrenamiento = 0.058883, Pérdida prueba = 0.082956\n",
      "Época 8880: Pérdida entrenamiento = 0.058883, Pérdida prueba = 0.082956\n",
      "Época 8900: Pérdida entrenamiento = 0.058883, Pérdida prueba = 0.082956\n",
      "Época 8920: Pérdida entrenamiento = 0.058883, Pérdida prueba = 0.082956\n",
      "Época 8940: Pérdida entrenamiento = 0.058883, Pérdida prueba = 0.082956\n",
      "Época 8960: Pérdida entrenamiento = 0.058883, Pérdida prueba = 0.082956\n",
      "Época 8980: Pérdida entrenamiento = 0.058883, Pérdida prueba = 0.082956\n",
      "Época 9000: Pérdida entrenamiento = 0.058883, Pérdida prueba = 0.082956\n",
      "Época 9020: Pérdida entrenamiento = 0.058883, Pérdida prueba = 0.082956\n",
      "Época 9040: Pérdida entrenamiento = 0.058883, Pérdida prueba = 0.082956\n",
      "Época 9060: Pérdida entrenamiento = 0.058883, Pérdida prueba = 0.082956\n",
      "Época 9080: Pérdida entrenamiento = 0.058883, Pérdida prueba = 0.082956\n",
      "Época 9100: Pérdida entrenamiento = 0.058883, Pérdida prueba = 0.082956\n",
      "Época 9120: Pérdida entrenamiento = 0.058883, Pérdida prueba = 0.082956\n",
      "Época 9140: Pérdida entrenamiento = 0.058883, Pérdida prueba = 0.082956\n",
      "Época 9160: Pérdida entrenamiento = 0.058883, Pérdida prueba = 0.082956\n",
      "Época 9180: Pérdida entrenamiento = 0.058883, Pérdida prueba = 0.082956\n",
      "Época 9200: Pérdida entrenamiento = 0.058883, Pérdida prueba = 0.082956\n",
      "Época 9220: Pérdida entrenamiento = 0.058883, Pérdida prueba = 0.082956\n",
      "Época 9240: Pérdida entrenamiento = 0.058883, Pérdida prueba = 0.082956\n",
      "Época 9260: Pérdida entrenamiento = 0.058883, Pérdida prueba = 0.082956\n",
      "Época 9280: Pérdida entrenamiento = 0.058883, Pérdida prueba = 0.082956\n",
      "Época 9300: Pérdida entrenamiento = 0.058883, Pérdida prueba = 0.082956\n",
      "Época 9320: Pérdida entrenamiento = 0.058883, Pérdida prueba = 0.082956\n",
      "Época 9340: Pérdida entrenamiento = 0.058883, Pérdida prueba = 0.082956\n",
      "Época 9360: Pérdida entrenamiento = 0.058883, Pérdida prueba = 0.082956\n",
      "Época 9380: Pérdida entrenamiento = 0.058883, Pérdida prueba = 0.082956\n",
      "Época 9400: Pérdida entrenamiento = 0.058883, Pérdida prueba = 0.082956\n",
      "Época 9420: Pérdida entrenamiento = 0.058883, Pérdida prueba = 0.082956\n",
      "Época 9440: Pérdida entrenamiento = 0.058883, Pérdida prueba = 0.082956\n",
      "Época 9460: Pérdida entrenamiento = 0.058883, Pérdida prueba = 0.082956\n",
      "Época 9480: Pérdida entrenamiento = 0.058883, Pérdida prueba = 0.082956\n",
      "Época 9500: Pérdida entrenamiento = 0.058883, Pérdida prueba = 0.082956\n",
      "Época 9520: Pérdida entrenamiento = 0.058883, Pérdida prueba = 0.082956\n",
      "Época 9540: Pérdida entrenamiento = 0.058883, Pérdida prueba = 0.082956\n",
      "Época 9560: Pérdida entrenamiento = 0.058883, Pérdida prueba = 0.082956\n",
      "Época 9580: Pérdida entrenamiento = 0.058883, Pérdida prueba = 0.082956\n",
      "Época 9600: Pérdida entrenamiento = 0.058883, Pérdida prueba = 0.082956\n",
      "Época 9620: Pérdida entrenamiento = 0.058883, Pérdida prueba = 0.082956\n",
      "Época 9640: Pérdida entrenamiento = 0.058883, Pérdida prueba = 0.082956\n",
      "Época 9660: Pérdida entrenamiento = 0.058883, Pérdida prueba = 0.082956\n",
      "Época 9680: Pérdida entrenamiento = 0.058883, Pérdida prueba = 0.082956\n",
      "Época 9700: Pérdida entrenamiento = 0.058883, Pérdida prueba = 0.082956\n",
      "Época 9720: Pérdida entrenamiento = 0.058883, Pérdida prueba = 0.082956\n",
      "Época 9740: Pérdida entrenamiento = 0.058883, Pérdida prueba = 0.082956\n",
      "Época 9760: Pérdida entrenamiento = 0.058883, Pérdida prueba = 0.082957\n",
      "Época 9780: Pérdida entrenamiento = 0.058883, Pérdida prueba = 0.082957\n",
      "Época 9800: Pérdida entrenamiento = 0.058883, Pérdida prueba = 0.082957\n",
      "Época 9820: Pérdida entrenamiento = 0.058883, Pérdida prueba = 0.082957\n",
      "Época 9840: Pérdida entrenamiento = 0.058883, Pérdida prueba = 0.082957\n",
      "Época 9860: Pérdida entrenamiento = 0.058883, Pérdida prueba = 0.082957\n",
      "Época 9880: Pérdida entrenamiento = 0.058883, Pérdida prueba = 0.082957\n",
      "Época 9900: Pérdida entrenamiento = 0.058883, Pérdida prueba = 0.082957\n",
      "Época 9920: Pérdida entrenamiento = 0.058883, Pérdida prueba = 0.082957\n",
      "Época 9940: Pérdida entrenamiento = 0.058883, Pérdida prueba = 0.082957\n",
      "Época 9960: Pérdida entrenamiento = 0.058883, Pérdida prueba = 0.082957\n",
      "Época 9980: Pérdida entrenamiento = 0.058883, Pérdida prueba = 0.082957\n",
      "\n",
      "¡Entrenamiento completado!\n"
     ]
    }
   ],
   "execution_count": 6
  },
  {
   "cell_type": "markdown",
   "id": "3cd8ea5c37f21902",
   "metadata": {},
   "source": [
    "## Visualización del entrenamiento"
   ]
  },
  {
   "cell_type": "code",
   "id": "4cf263d4de049d04",
   "metadata": {
    "ExecuteTime": {
     "end_time": "2025-10-20T15:14:21.574322Z",
     "start_time": "2025-10-20T15:14:21.367706Z"
    }
   },
   "source": [
    "plt.figure(figsize=(12, 4))\n",
    "\n",
    "# Gráfico de pérdidas\n",
    "plt.subplot(1, 2, 1)\n",
    "plt.plot(train_losses, label='Pérdida Entrenamiento')\n",
    "plt.plot(test_losses, label='Pérdida Prueba')\n",
    "plt.title('Evolución de la Pérdida durante el Entrenamiento')\n",
    "plt.xlabel('Época')\n",
    "plt.ylabel('Pérdida')\n",
    "plt.legend()\n",
    "plt.grid(True)"
   ],
   "outputs": [
    {
     "data": {
      "text/plain": [
       "<Figure size 1200x400 with 1 Axes>"
      ],
      "image/png": "[encoded data removed]"
     },
     "metadata": {},
     "output_type": "display_data",
     "jetTransient": {
      "display_id": null
     }
    }
   ],
   "execution_count": 7
  },
  {
   "cell_type": "markdown",
   "id": "3487c71102aebfce",
   "metadata": {},
   "source": [
    "# Predicciones"
   ]
  },
  {
   "cell_type": "code",
   "id": "febe21c62293943d",
   "metadata": {
    "ExecuteTime": {
     "end_time": "2025-10-20T15:14:21.694439Z",
     "start_time": "2025-10-20T15:14:21.584424Z"
    }
   },
   "source": [
    "# Hacer predicciones\n",
    "y_pred_train = neurona(X_train.astype(np.float32))\n",
    "y_pred_test = neurona(X_test.astype(np.float32))\n",
    "\n",
    "# Desnormalizar las predicciones\n",
    "y_pred_train_actual = scaler.inverse_transform(y_pred_train.numpy())\n",
    "y_test_actual = scaler.inverse_transform(y_test.reshape(-1, 1))\n",
    "y_train_actual = scaler.inverse_transform(y_train.reshape(-1, 1))\n",
    "\n",
    "# Gráfico de predicciones vs valores reales\n",
    "plt.subplot(1, 2, 2)\n",
    "plt.plot(y_train_actual, label='Valores Reales (Train)', alpha=0.7)\n",
    "plt.plot(y_pred_train_actual, label='Predicciones (Train)', alpha=0.7)\n",
    "plt.title('Predicciones vs Valores Reales - Entrenamiento')\n",
    "plt.xlabel('Tiempo')\n",
    "plt.ylabel('Precio ETH (USD)')\n",
    "plt.legend()\n",
    "plt.grid(True)\n",
    "\n",
    "plt.tight_layout()\n",
    "plt.show()"
   ],
   "outputs": [
    {
     "data": {
      "text/plain": [
       "<Figure size 640x480 with 1 Axes>"
      ],
      "image/png": "[encoded data removed]"
     },
     "metadata": {},
     "output_type": "display_data",
     "jetTransient": {
      "display_id": null
     }
    }
   ],
   "execution_count": 8
  },
  {
   "cell_type": "markdown",
   "id": "9d01d40641691256",
   "metadata": {},
   "source": [
    "## Predicción del siguiente precio"
   ]
  },
  {
   "cell_type": "code",
   "id": "711fc1286d5d4ca3",
   "metadata": {
    "ExecuteTime": {
     "end_time": "2025-10-20T15:14:21.717518Z",
     "start_time": "2025-10-20T15:14:21.709770Z"
    }
   },
   "source": [
    "# Usar los últimos 'sequence_length' días para predecir el siguiente\n",
    "ultimos_datos = data_scaled[-sequence_length:].flatten().reshape(1, -1)\n",
    "\n",
    "# Hacer la predicción\n",
    "prediccion_normalizada = neurona(ultimos_datos.astype(np.float32))\n",
    "prediccion = scaler.inverse_transform(prediccion_normalizada.numpy())\n",
    "\n",
    "print(f\"\\n=== PREDICCIÓN DE LA NEURONA ===\")\n",
    "print(f\"Último precio real: ${data[-1][0]:.2f}\")\n",
    "print(f\"Predicción del siguiente precio: ${prediccion[0][0]:.2f}\")\n",
    "print(f\"Pesos finales de la neurona: {neurona.get_weights()[0].flatten()}\")\n",
    "print(f\"Sesgo final: {neurona.get_weights()[1][0]:.6f}\")"
   ],
   "outputs": [
    {
     "name": "stdout",
     "output_type": "stream",
     "text": [
      "\n",
      "=== PREDICCIÓN DE LA NEURONA ===\n",
      "Último precio real: $3984.65\n",
      "Predicción del siguiente precio: $1921.23\n",
      "Pesos finales de la neurona: [-2.5658100e-04  8.0822399e-05  8.1512606e-04 -1.2539465e-03\n",
      "  1.0652058e-03 -7.6674024e-04  1.8084113e-04  1.0843633e-03\n",
      " -2.0195723e-03  1.0715616e-03]\n",
      "Sesgo final: 0.383547\n"
     ]
    }
   ],
   "execution_count": 9
  },
  {
   "cell_type": "markdown",
   "id": "935ed9d65891a6e8",
   "metadata": {},
   "source": [
    "# Evaluación del modelo"
   ]
  },
  {
   "cell_type": "code",
   "id": "b7689ca4e4b97b24",
   "metadata": {
    "ExecuteTime": {
     "end_time": "2025-10-20T15:14:21.729499Z",
     "start_time": "2025-10-20T15:14:21.724564Z"
    }
   },
   "source": [
    "# Calcular métricas de error\n",
    "from sklearn.metrics import mean_absolute_error, mean_squared_error\n",
    "\n",
    "y_pred_test_actual = scaler.inverse_transform(y_pred_test.numpy())\n",
    "\n",
    "mae = mean_absolute_error(y_test_actual, y_pred_test_actual)\n",
    "mse = mean_squared_error(y_test_actual, y_pred_test_actual)\n",
    "rmse = np.sqrt(mse)\n",
    "\n",
    "print(f\"\\n=== MÉTRICAS DE EVALUACIÓN ===\")\n",
    "print(f\"Error Absoluto Medio (MAE): ${mae:.2f}\")\n",
    "print(f\"Error Cuadrático Medio (MSE): ${mse:.2f}\")\n",
    "print(f\"Raíz del Error Cuadrático Medio (RMSE): ${rmse:.2f}\")"
   ],
   "outputs": [
    {
     "name": "stdout",
     "output_type": "stream",
     "text": [
      "\n",
      "=== MÉTRICAS DE EVALUACIÓN ===\n",
      "Error Absoluto Medio (MAE): $1107.45\n",
      "Error Cuadrático Medio (MSE): $1848713.04\n",
      "Raíz del Error Cuadrático Medio (RMSE): $1359.67\n"
     ]
    }
   ],
   "execution_count": 10
  }
 ],
 "metadata": {
  "kernelspec": {
   "display_name": "Python 3 (ipykernel)",
   "language": "python",
   "name": "python3"
  },
  "language_info": {
   "codemirror_mode": {
    "name": "ipython",
    "version": 3
   },
   "file_extension": ".py",
   "mimetype": "text/x-python",
   "name": "python",
   "nbconvert_exporter": "python",
   "pygments_lexer": "ipython3",
   "version": "3.13.5"
  }
 },
 "nbformat": 4,
 "nbformat_minor": 5
}
