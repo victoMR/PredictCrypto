{
 "cells": [
  {
   "cell_type": "raw",
   "id": "8dfe4599-f61a-4f6e-bb08-82f10bb714d6",
   "metadata": {},
   "source": [
    "# Creación de neurona con dos nodos artificial para ETH\n"
   ]
  },
  {
   "cell_type": "code",
   "execution_count": 1,
   "id": "211389c622429cc4",
   "metadata": {
    "ExecuteTime": {
     "end_time": "2025-10-30T00:32:46.960111Z",
     "start_time": "2025-10-30T00:32:42.357856Z"
    }
   },
   "outputs": [
    {
     "name": "stdout",
     "output_type": "stream",
     "text": [
      "TensorFlow version: 2.20.0\n",
      "Verion 1.0.0 del algoritmo\n"
     ]
    }
   ],
   "source": [
    "import tensorflow as tf\n",
    "import pandas as pd\n",
    "import numpy as np\n",
    "import matplotlib.pyplot as plt\n",
    "import yfinance as yf\n",
    "from sklearn.preprocessing import MinMaxScaler\n",
    "from sklearn.model_selection import train_test_split\n",
    "\n",
    "print(\"TensorFlow version:\", tf.__version__)\n",
    "print(\"Verion 1.0.0 del algoritmo\")"
   ]
  },
  {
   "cell_type": "markdown",
   "id": "77090c0eb7ff1473",
   "metadata": {},
   "source": [
    "## Descargar datos de Ethereum"
   ]
  },
  {
   "cell_type": "code",
   "execution_count": 2,
   "id": "f5ed42eb826a563e",
   "metadata": {
    "ExecuteTime": {
     "end_time": "2025-10-30T00:32:47.596314Z",
     "start_time": "2025-10-30T00:32:46.968295Z"
    }
   },
   "outputs": [
    {
     "name": "stderr",
     "output_type": "stream",
     "text": [
      "C:\\Users\\raton\\AppData\\Local\\Temp\\ipykernel_5740\\3822267417.py:2: FutureWarning: YF.download() has changed argument auto_adjust default to True\n",
      "  eth = yf.download('ETH-USD', start='2020-01-01', end='2025-10-20')\n",
      "[*********************100%***********************]  1 of 1 completed"
     ]
    },
    {
     "name": "stdout",
     "output_type": "stream",
     "text": [
      "Price            Close        High         Low        Open       Volume\n",
      "Ticker         ETH-USD     ETH-USD     ETH-USD     ETH-USD      ETH-USD\n",
      "Date                                                                   \n",
      "2020-01-01  130.802002  132.835358  129.198288  129.630661   7935230330\n",
      "2020-01-02  127.410179  130.820038  126.954910  130.820038   8032709256\n",
      "2020-01-03  134.171707  134.554016  126.490021  127.411263  10476845358\n",
      "2020-01-04  135.069366  136.052719  133.040558  134.168518   7430904515\n",
      "2020-01-05  136.276779  139.410202  135.045624  135.072098   7526675353\n",
      "\n",
      "Forma de los datos: (2119, 5)\n"
     ]
    },
    {
     "name": "stderr",
     "output_type": "stream",
     "text": [
      "\n"
     ]
    }
   ],
   "source": [
    "# Descargar datos históricos de Ethereum\n",
    "eth = yf.download('ETH-USD', start='2020-01-01', end='2025-10-20')\n",
    "\n",
    "# Mostrar las primeras filas\n",
    "print(eth.head())\n",
    "print(\"\\nForma de los datos:\", eth.shape)"
   ]
  },
  {
   "cell_type": "markdown",
   "id": "50d3585caf3e2206",
   "metadata": {},
   "source": [
    "## Preprocesamiento de datos"
   ]
  },
  {
   "cell_type": "code",
   "execution_count": 3,
   "id": "528210cce76405ad",
   "metadata": {
    "ExecuteTime": {
     "end_time": "2025-10-30T00:32:47.611392Z",
     "start_time": "2025-10-30T00:32:47.604360Z"
    }
   },
   "outputs": [
    {
     "name": "stdout",
     "output_type": "stream",
     "text": [
      "Forma de X: (2115, 4)\n",
      "Forma de y: (2115,)\n"
     ]
    }
   ],
   "source": [
    "# Usaremos solo el precio de cierre\n",
    "data = np.log(eth[['Close']].values)\n",
    "\n",
    "# Normalizar los datos entre 0 y 1\n",
    "scaler = MinMaxScaler(feature_range=(0, 1))\n",
    "data_scaled = scaler.fit_transform(data)\n",
    "\n",
    "# Crear secuencias para entrenamiento\n",
    "def create_sequences(data, sequence_length=10):\n",
    "    X, y = [], []\n",
    "    for i in range(len(data) - sequence_length):\n",
    "        X.append(data[i:(i + sequence_length), 0])\n",
    "        y.append(data[i + sequence_length, 0])\n",
    "    return np.array(X), np.array(y)\n",
    "\n",
    "sequence_length = 4\n",
    "X, y = create_sequences(data_scaled, sequence_length)\n",
    "\n",
    "print(f\"Forma de X: {X.shape}\")\n",
    "print(f\"Forma de y: {y.shape}\")"
   ]
  },
  {
   "cell_type": "markdown",
   "id": "4c79c1d80c5973bf",
   "metadata": {},
   "source": [
    "## Definir la estructura de una sola neurona"
   ]
  },
  {
   "cell_type": "code",
   "execution_count": 4,
   "id": "a125d34e71f8b537",
   "metadata": {
    "ExecuteTime": {
     "end_time": "2025-10-30T00:32:47.667218Z",
     "start_time": "2025-10-30T00:32:47.626652Z"
    }
   },
   "outputs": [
    {
     "name": "stdout",
     "output_type": "stream",
     "text": [
      "Neurona creada exitosamente!\n",
      "Pesos iniciales: [ 0.07936992 -0.12729411  0.0625833  -0.07990446  0.07895837  0.0179898\n",
      "  0.10348535 -0.09793843]\n",
      "Sesgo inicial: [0. 0.]\n"
     ]
    }
   ],
   "source": [
    "# UNA SOLA NEURONA usando TensorFlow\n",
    "class SingleNeuron:\n",
    "    def __init__(self, input_dim):\n",
    "        # Inicializar pesos y sesgo (bias)\n",
    "        self.W = tf.Variable(tf.random.normal([input_dim, 2], stddev=0.1), name='weights')\n",
    "        self.b = tf.Variable(tf.zeros([2]), name='bias')\n",
    "\n",
    "    def __call__(self, x):\n",
    "        # Forward pass: y = Wx + b\n",
    "        return tf.matmul(x, self.W) + self.b\n",
    "\n",
    "    def get_weights(self):\n",
    "        return self.W.numpy(), self.b.numpy()\n",
    "\n",
    "# Crear la neurona\n",
    "neurona = SingleNeuron(input_dim=sequence_length)\n",
    "print(\"Neurona creada exitosamente!\")\n",
    "print(f\"Pesos iniciales: {neurona.get_weights()[0].flatten()}\")\n",
    "print(f\"Sesgo inicial: {neurona.get_weights()[1]}\")"
   ]
  },
  {
   "cell_type": "markdown",
   "id": "3cee932a4e5592ea",
   "metadata": {},
   "source": [
    "## Función de pérdida y optimizador"
   ]
  },
  {
   "cell_type": "code",
   "execution_count": 5,
   "id": "dd34cd6f0aa13628",
   "metadata": {
    "ExecuteTime": {
     "end_time": "2025-10-30T00:32:47.692681Z",
     "start_time": "2025-10-30T00:32:47.674767Z"
    }
   },
   "outputs": [
    {
     "name": "stdout",
     "output_type": "stream",
     "text": [
      "Datos de entrenamiento: (2095, 4)\n",
      "Datos de prueba: (20, 4)\n"
     ]
    }
   ],
   "source": [
    "# Función de pérdida (Error Cuadrático Medio)\n",
    "def loss_fn(y_true, y_pred):\n",
    "    return tf.reduce_mean(tf.square(y_true - y_pred))\n",
    "\n",
    "# Optimizador (Descenso de Gradiente)\n",
    "optimizer = tf.optimizers.Adam(learning_rate=0.01)\n",
    "\n",
    "# Dividir datos en entrenamiento y prueba\n",
    "X_train, X_test, y_train, y_test = train_test_split(X, y, test_size=20, shuffle=False)\n",
    "\n",
    "print(f\"Datos de entrenamiento: {X_train.shape}\")\n",
    "print(f\"Datos de prueba: {X_test.shape}\")"
   ]
  },
  {
   "cell_type": "markdown",
   "id": "df84f0139b7d62e1",
   "metadata": {},
   "source": [
    "## Entrenamiento de la neurona"
   ]
  },
  {
   "cell_type": "raw",
   "id": "b03c1ba8-8a62-4f93-99ae-eca3b96ad7a3",
   "metadata": {
    "ExecuteTime": {
     "end_time": "2025-10-30T00:32:48.544082Z",
     "start_time": "2025-10-30T00:32:47.700986Z"
    }
   },
   "source": [
    "# Historial de pérdidas\n",
    "train_losses = []\n",
    "test_losses = []\n",
    "\n",
    "# Entrenamiento\n",
    "epochs = 2000\n",
    "for epoch in range(epochs):\n",
    "    with tf.GradientTape() as tape:\n",
    "        # Forward pass\n",
    "        y_pred = neurona(X_train.astype(np.float32))\n",
    "        loss = loss_fn(y_train.astype(np.float32), y_pred)\n",
    "\n",
    "    # Backward pass\n",
    "    gradients = tape.gradient(loss, [neurona.W, neurona.b])\n",
    "    optimizer.apply_gradients(zip(gradients, [neurona.W, neurona.b]))\n",
    "\n",
    "    # Calcular pérdida en test\n",
    "    y_test_pred = neurona(X_test.astype(np.float32))\n",
    "    test_loss = loss_fn(y_test.astype(np.float32), y_test_pred)\n",
    "\n",
    "    if epoch > 0 and test_loss.numpy() > test_losses[-1]:\n",
    "        print(f\"Epoch {epoch}: Loss: {test_loss.numpy()}\")\n",
    "        break\n",
    "\n",
    "    train_losses.append(loss.numpy())\n",
    "    test_losses.append(test_loss.numpy())\n",
    "\n",
    "    if epoch % 20 == 0:\n",
    "        print(f\"Época {epoch}: Pérdida entrenamiento = {loss.numpy():.6f}, Pérdida prueba = {test_loss.numpy():.6f}\")\n",
    "\n",
    "print(\"\\n¡Entrenamiento completado!\")"
   ]
  },
  {
   "cell_type": "markdown",
   "id": "3cd8ea5c37f21902",
   "metadata": {},
   "source": [
    "## Visualización del entrenamiento"
   ]
  },
  {
   "cell_type": "code",
   "execution_count": 12,
   "id": "4cf263d4de049d04",
   "metadata": {
    "ExecuteTime": {
     "end_time": "2025-10-30T00:32:48.555958400Z",
     "start_time": "2025-10-21T05:45:51.529327Z"
    }
   },
   "outputs": [
    {
     "data": {
      "image/png": "[encoded data removed]",
      "text/plain": [
       "<Figure size 1200x400 with 1 Axes>"
      ]
     },
     "jetTransient": {
      "display_id": null
     },
     "metadata": {},
     "output_type": "display_data"
    }
   ],
   "source": [
    "plt.figure(figsize=(12, 4))\n",
    "\n",
    "# Gráfico de pérdidas\n",
    "plt.subplot(1, 2, 1)\n",
    "plt.plot(train_losses, label='Pérdida Entrenamiento')\n",
    "plt.plot(test_losses, label='Pérdida Prueba')\n",
    "plt.title('Evolución de la Pérdida durante el Entrenamiento')\n",
    "plt.xlabel('Época')\n",
    "plt.ylabel('Pérdida')\n",
    "plt.legend()\n",
    "plt.grid(True)"
   ]
  },
  {
   "cell_type": "markdown",
   "id": "3487c71102aebfce",
   "metadata": {},
   "source": [
    "# Predicciones"
   ]
  },
  {
   "cell_type": "code",
   "execution_count": 13,
   "id": "febe21c62293943d",
   "metadata": {
    "ExecuteTime": {
     "end_time": "2025-10-30T00:32:48.556966100Z",
     "start_time": "2025-10-21T05:45:51.830706Z"
    }
   },
   "outputs": [
    {
     "data": {
      "image/png": "[encoded data removed]",
      "text/plain": [
       "<Figure size 640x480 with 1 Axes>"
      ]
     },
     "jetTransient": {
      "display_id": null
     },
     "metadata": {},
     "output_type": "display_data"
    }
   ],
   "source": [
    "# Hacer predicciones\n",
    "y_pred_train = neurona(X_train.astype(np.float32))\n",
    "y_pred_test = neurona(X_test.astype(np.float32))\n",
    "\n",
    "# Desnormalizar las predicciones\n",
    "y_pred_train_actual = scaler.inverse_transform(y_pred_train.numpy())\n",
    "y_test_actual = scaler.inverse_transform(y_test.reshape(-1, 1))\n",
    "y_train_actual = scaler.inverse_transform(y_train.reshape(-1, 1))\n",
    "\n",
    "# Gráfico de predicciones vs valores reales\n",
    "plt.subplot(1, 2, 2)\n",
    "plt.plot(y_train_actual, label='Valores Reales (Train)', alpha=0.7)\n",
    "plt.plot(y_pred_train_actual, label='Predicciones (Train)', alpha=0.7)\n",
    "plt.title('Predicciones vs Valores Reales - Entrenamiento')\n",
    "plt.xlabel('Tiempo')\n",
    "plt.ylabel('Precio ETH (USD)')\n",
    "plt.legend()\n",
    "plt.grid(True)\n",
    "\n",
    "plt.tight_layout()\n",
    "plt.show()"
   ]
  },
  {
   "cell_type": "markdown",
   "id": "9d01d40641691256",
   "metadata": {},
   "source": [
    "## Predicción del siguiente precio"
   ]
  },
  {
   "cell_type": "code",
   "execution_count": 14,
   "id": "711fc1286d5d4ca3",
   "metadata": {
    "ExecuteTime": {
     "end_time": "2025-10-30T00:32:48.558959900Z",
     "start_time": "2025-10-21T05:45:51.937767Z"
    }
   },
   "outputs": [
    {
     "name": "stdout",
     "output_type": "stream",
     "text": [
      "\n",
      "=== PREDICCIÓN DE LA NEURONA ===\n",
      "Último precio real: $3984.65\n",
      "Predicción del siguiente precio: $2115.14\n",
      "Pesos finales de la neurona: [ 9.7578936e-07 -8.9730997e-07 -7.1213395e-07  2.3708532e-07\n",
      "  2.8176495e-07  1.0302174e-06 -1.2304256e-06  7.5433729e-07\n",
      " -1.0413155e-06  6.1606937e-07]\n",
      "Sesgo final: 0.424622\n"
     ]
    }
   ],
   "source": [
    "# Usar los últimos 'sequence_length' días para predecir el siguiente\n",
    "ultimos_datos = data_scaled[-sequence_length:].flatten().reshape(1, -1)\n",
    "\n",
    "# Hacer la predicción\n",
    "prediccion_normalizada = neurona(ultimos_datos.astype(np.float32))\n",
    "prediccion = scaler.inverse_transform(prediccion_normalizada.numpy())\n",
    "\n",
    "print(f\"\\n=== PREDICCIÓN DE LA NEURONA ===\")\n",
    "print(f\"Último precio real: ${data[-1][0]:.2f}\")\n",
    "print(f\"Predicción del siguiente precio: ${prediccion[0][0]:.2f}\")\n",
    "print(f\"Pesos finales de la neurona: {neurona.get_weights()[0].flatten()}\")\n",
    "print(f\"Sesgo final: {neurona.get_weights()[1][0]:.6f}\")"
   ]
  },
  {
   "cell_type": "markdown",
   "id": "935ed9d65891a6e8",
   "metadata": {},
   "source": [
    "# Evaluación del modelo"
   ]
  },
  {
   "cell_type": "code",
   "execution_count": 15,
   "id": "b7689ca4e4b97b24",
   "metadata": {
    "ExecuteTime": {
     "end_time": "2025-10-30T00:32:48.559960600Z",
     "start_time": "2025-10-21T05:45:51.953493Z"
    }
   },
   "outputs": [
    {
     "name": "stdout",
     "output_type": "stream",
     "text": [
      "\n",
      "=== MÉTRICAS DE EVALUACIÓN ===\n",
      "Error Absoluto Medio (MAE): $2097.81\n",
      "Error Cuadrático Medio (MSE): $4479723.46\n",
      "Raíz del Error Cuadrático Medio (RMSE): $2116.54\n"
     ]
    }
   ],
   "source": [
    "# Calcular métricas de error\n",
    "from sklearn.metrics import mean_absolute_error, mean_squared_error\n",
    "\n",
    "y_pred_test_actual = scaler.inverse_transform(y_pred_test.numpy())\n",
    "\n",
    "mae = mean_absolute_error(y_test_actual, y_pred_test_actual)\n",
    "mse = mean_squared_error(y_test_actual, y_pred_test_actual)\n",
    "rmse = np.sqrt(mse)\n",
    "\n",
    "print(f\"\\n=== MÉTRICAS DE EVALUACIÓN ===\")\n",
    "print(f\"Error Absoluto Medio (MAE): ${mae:.2f}\")\n",
    "print(f\"Error Cuadrático Medio (MSE): ${mse:.2f}\")\n",
    "print(f\"Raíz del Error Cuadrático Medio (RMSE): ${rmse:.2f}\")"
   ]
  }
 ],
 "metadata": {
  "kernelspec": {
   "display_name": "Python 3 (ipykernel)",
   "language": "python",
   "name": "python3"
  },
  "language_info": {
   "codemirror_mode": {
    "name": "ipython",
    "version": 3
   },
   "file_extension": ".py",
   "mimetype": "text/x-python",
   "name": "python",
   "nbconvert_exporter": "python",
   "pygments_lexer": "ipython3",
   "version": "3.13.5"
  }
 },
 "nbformat": 4,
 "nbformat_minor": 5
}
