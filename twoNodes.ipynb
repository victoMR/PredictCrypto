{
 "cells": [
  {
   "metadata": {},
   "cell_type": "markdown",
   "source": [
    "# Creación de neurona con dos nodos\n",
    "artificial para ETH\n"
   ],
   "id": "87a83a7f89d39a00"
  },
  {
   "metadata": {
    "ExecuteTime": {
     "end_time": "2025-10-30T20:48:46.959826Z",
     "start_time": "2025-10-30T20:48:43.892694Z"
    }
   },
   "cell_type": "code",
   "source": [
    "import tensorflow as tf\n",
    "import pandas as pd\n",
    "import numpy as np\n",
    "import matplotlib.pyplot as plt\n",
    "import yfinance as yf\n",
    "from sklearn.preprocessing import MinMaxScaler\n",
    "from sklearn.model_selection import train_test_split\n",
    "\n",
    "print(\"TensorFlow version:\", tf.__version__)\n",
    "print(\"Verion 1.1.0 del algoritmo\")"
   ],
   "id": "ae5c6372117318d",
   "outputs": [
    {
     "name": "stdout",
     "output_type": "stream",
     "text": [
      "TensorFlow version: 2.20.0\n",
      "Verion 1.1.0 del algoritmo\n"
     ]
    }
   ],
   "execution_count": 1
  },
  {
   "metadata": {},
   "cell_type": "markdown",
   "source": "## Descargar datos de Ethereum",
   "id": "93b880c9e4bf3adc"
  },
  {
   "metadata": {
    "ExecuteTime": {
     "end_time": "2025-10-30T20:48:48.157881Z",
     "start_time": "2025-10-30T20:48:46.969198Z"
    }
   },
   "cell_type": "code",
   "source": [
    "# Descargar datos históricos de Ethereum\n",
    "eth = yf.download('ETH-USD', start='2020-01-01', end='2025-10-20')\n",
    "\n",
    "# Mostrar las primeras filas\n",
    "print(eth.head())\n",
    "print(\"\\nForma de los datos:\", eth.shape)"
   ],
   "id": "ac868f1a012f3255",
   "outputs": [
    {
     "name": "stderr",
     "output_type": "stream",
     "text": [
      "C:\\Users\\raton\\AppData\\Local\\Temp\\ipykernel_8224\\3822267417.py:2: FutureWarning: YF.download() has changed argument auto_adjust default to True\n",
      "  eth = yf.download('ETH-USD', start='2020-01-01', end='2025-10-20')\n",
      "[*********************100%***********************]  1 of 1 completed"
     ]
    },
    {
     "name": "stdout",
     "output_type": "stream",
     "text": [
      "Price            Close        High         Low        Open       Volume\n",
      "Ticker         ETH-USD     ETH-USD     ETH-USD     ETH-USD      ETH-USD\n",
      "Date                                                                   \n",
      "2020-01-01  130.802002  132.835358  129.198288  129.630661   7935230330\n",
      "2020-01-02  127.410179  130.820038  126.954910  130.820038   8032709256\n",
      "2020-01-03  134.171707  134.554016  126.490021  127.411263  10476845358\n",
      "2020-01-04  135.069366  136.052719  133.040558  134.168518   7430904515\n",
      "2020-01-05  136.276779  139.410202  135.045624  135.072098   7526675353\n",
      "\n",
      "Forma de los datos: (2119, 5)\n"
     ]
    },
    {
     "name": "stderr",
     "output_type": "stream",
     "text": [
      "\n"
     ]
    }
   ],
   "execution_count": 2
  },
  {
   "metadata": {},
   "cell_type": "markdown",
   "source": "## Preprocesamiento de datos",
   "id": "784a45aef9ca89ed"
  },
  {
   "metadata": {
    "ExecuteTime": {
     "end_time": "2025-10-30T20:48:48.178927Z",
     "start_time": "2025-10-30T20:48:48.170094Z"
    }
   },
   "cell_type": "code",
   "source": [
    "# Usaremos solo el precio de cierre\n",
    "data = np.log(eth[['Close']].values)\n",
    "\n",
    "# Normalizar los datos entre 0 y 1\n",
    "scaler = MinMaxScaler(feature_range=(0, 1))\n",
    "data_scaled = scaler.fit_transform(data)\n",
    "\n",
    "# Crear secuencias para entrenamiento\n",
    "def create_sequences(data, sequence_length=10):\n",
    "    X, y = [], []\n",
    "    for i in range(len(data) - sequence_length):\n",
    "        X.append(data[i:(i + sequence_length), 0])\n",
    "        y.append(data[i + sequence_length, 0])\n",
    "    return np.array(X), np.array(y)\n",
    "\n",
    "sequence_length = 300\n",
    "X, y = create_sequences(data_scaled, sequence_length)\n",
    "\n",
    "print(f\"Forma de X: {X.shape}\")\n",
    "print(f\"Forma de y: {y.shape}\")"
   ],
   "id": "6f0a30f155db68d9",
   "outputs": [
    {
     "name": "stdout",
     "output_type": "stream",
     "text": [
      "Forma de X: (1819, 300)\n",
      "Forma de y: (1819,)\n"
     ]
    }
   ],
   "execution_count": 3
  },
  {
   "metadata": {},
   "cell_type": "markdown",
   "source": "## Definir la estructura de una sola neurona",
   "id": "372476301cf13b40"
  },
  {
   "metadata": {
    "ExecuteTime": {
     "end_time": "2025-10-30T20:48:48.263838Z",
     "start_time": "2025-10-30T20:48:48.213604Z"
    }
   },
   "cell_type": "code",
   "source": [
    "# UNA SOLA NEURONA usando TensorFlow\n",
    "class SingleNeuronWithTwoHiddenNodes:\n",
    "    def __init__(self, input_dim):\n",
    "        # Capa oculta con 2 nodos\n",
    "        self.W1 = tf.Variable(tf.random.normal([input_dim, 2], stddev=0.1), name='W1')\n",
    "        self.b1 = tf.Variable(tf.zeros([2]), name='b1')\n",
    "\n",
    "        # Capa de salida (1 nodo)\n",
    "        self.W2 = tf.Variable(tf.random.normal([2, 1], stddev=0.1), name='W2')\n",
    "        self.b2 = tf.Variable(tf.zeros([1]), name='b2')\n",
    "\n",
    "    def __call__(self, x):\n",
    "        # Capa oculta con activación ReLU\n",
    "        hidden = tf.nn.relu(tf.matmul(x, self.W1) + self.b1)\n",
    "        # Capa de salida\n",
    "        output = tf.matmul(hidden, self.W2) + self.b2\n",
    "        return output\n",
    "\n",
    "    def get_weights(self):\n",
    "        return {\n",
    "            \"W1\": self.W1.numpy(),\n",
    "            \"b1\": self.b1.numpy(),\n",
    "            \"W2\": self.W2.numpy(),\n",
    "            \"b2\": self.b2.numpy()\n",
    "        }\n",
    "\n",
    "\n",
    "# Crear la neurona\n",
    "neurona = SingleNeuronWithTwoHiddenNodes(input_dim=sequence_length)\n",
    "print(\"Neurona creada exitosamente!\")\n",
    "pesos = neurona.get_weights()\n",
    "print(\"Pesos iniciales capa 1 (W1):\", pesos[\"W1\"])\n",
    "print(\"Sesgo capa 1 (b1):\", pesos[\"b1\"])\n",
    "print(\"Pesos capa salida (W2):\", pesos[\"W2\"])\n",
    "print(\"Sesgo capa salida (b2):\", pesos[\"b2\"])\n",
    "\n"
   ],
   "id": "c5e5b7a6fbd2f4a6",
   "outputs": [
    {
     "name": "stdout",
     "output_type": "stream",
     "text": [
      "Neurona creada exitosamente!\n",
      "Pesos iniciales capa 1 (W1): [[-6.93391031e-03 -3.66751589e-02]\n",
      " [ 2.00856812e-02 -4.91792187e-02]\n",
      " [-3.71497534e-02  1.18969075e-01]\n",
      " [-1.05134726e-01 -5.57923801e-02]\n",
      " [-2.84096505e-02 -1.41880903e-02]\n",
      " [ 1.71536133e-01  9.54575986e-02]\n",
      " [-3.41922831e-04  1.96858849e-02]\n",
      " [ 7.23078027e-02  1.67011961e-01]\n",
      " [ 9.62326862e-03 -1.04698196e-01]\n",
      " [ 1.51341602e-01  5.71617186e-02]\n",
      " [ 4.31908481e-02  1.12580135e-01]\n",
      " [-4.77478653e-02  1.91317014e-02]\n",
      " [-2.11083163e-02  5.58108352e-02]\n",
      " [ 2.79353093e-02 -2.29012016e-02]\n",
      " [-2.78589167e-02 -7.45058879e-02]\n",
      " [ 1.24128461e-02  2.02753618e-01]\n",
      " [-4.64734398e-02  4.20375280e-02]\n",
      " [-6.56318888e-02  5.34048043e-02]\n",
      " [-7.59266838e-02  1.27090320e-01]\n",
      " [ 1.83550939e-02 -1.70904901e-02]\n",
      " [ 3.95232663e-02  2.24439730e-03]\n",
      " [-1.26384035e-01 -9.73807573e-02]\n",
      " [-2.92423274e-02  9.14374739e-02]\n",
      " [ 2.24536687e-01  1.22774981e-01]\n",
      " [-4.55610864e-02 -6.16923682e-02]\n",
      " [ 8.92584920e-02  5.61241098e-02]\n",
      " [ 1.61713108e-01  1.12059593e-01]\n",
      " [ 4.47739847e-02  7.89681599e-02]\n",
      " [ 1.45759052e-02 -7.80372396e-02]\n",
      " [-2.17638835e-02  8.78021121e-02]\n",
      " [ 3.63481268e-02 -1.65428147e-01]\n",
      " [-6.51168823e-03 -8.72620270e-02]\n",
      " [ 2.00705886e-01  8.79991949e-02]\n",
      " [-2.44273748e-02  7.62728322e-03]\n",
      " [ 1.45645186e-01 -1.41957253e-01]\n",
      " [ 1.00804009e-01  4.42765169e-02]\n",
      " [-7.56917696e-04 -3.29486318e-02]\n",
      " [ 3.12111024e-02 -6.12326264e-02]\n",
      " [ 1.72230363e-01  7.43518770e-03]\n",
      " [-2.46880613e-02  4.41604992e-03]\n",
      " [ 8.90850723e-02 -1.32421330e-01]\n",
      " [ 8.85593891e-03 -6.83326274e-02]\n",
      " [-1.19555131e-01 -4.67358250e-03]\n",
      " [-7.50512555e-02  2.74001807e-02]\n",
      " [-1.77214369e-01 -7.72998035e-02]\n",
      " [ 2.33756304e-01  1.06021956e-01]\n",
      " [-1.82257351e-02 -1.61050513e-01]\n",
      " [-4.18845080e-02 -6.45004734e-02]\n",
      " [-1.58690959e-01 -5.05499542e-02]\n",
      " [-7.62983635e-02  2.70256430e-01]\n",
      " [-1.41327113e-01  6.17256723e-02]\n",
      " [ 5.35933785e-02  2.03096554e-01]\n",
      " [-1.97688207e-01 -4.03047092e-02]\n",
      " [ 1.44186571e-01  1.59114916e-02]\n",
      " [ 2.47786865e-02 -1.02636330e-01]\n",
      " [-2.18646564e-02 -2.73857657e-02]\n",
      " [-1.82002154e-03 -1.14836119e-01]\n",
      " [-1.14594176e-01  2.77337767e-02]\n",
      " [ 4.94158119e-02  7.88466707e-02]\n",
      " [ 1.64461918e-02 -2.00632717e-02]\n",
      " [-1.27441093e-01 -5.61302304e-02]\n",
      " [ 3.80096063e-02 -8.72116238e-02]\n",
      " [ 9.98777077e-02  1.20112240e-01]\n",
      " [-3.51252332e-02 -3.48270014e-02]\n",
      " [ 2.64943782e-02  1.19690470e-01]\n",
      " [ 1.06978893e-01 -3.49345542e-02]\n",
      " [-1.25085980e-01  1.26065488e-03]\n",
      " [ 2.35437434e-02  3.94086391e-02]\n",
      " [-6.57837540e-02 -1.03992082e-01]\n",
      " [-8.81341696e-02  6.69076899e-03]\n",
      " [ 4.84842025e-02  1.44585162e-01]\n",
      " [-9.04698670e-02 -3.31311747e-02]\n",
      " [-9.38998982e-02 -2.33685561e-02]\n",
      " [-4.87606078e-02  1.33506075e-01]\n",
      " [-6.97512506e-03 -8.66169408e-02]\n",
      " [ 1.47950947e-01 -1.56256974e-01]\n",
      " [ 1.01507381e-01 -1.38967875e-02]\n",
      " [ 8.25023800e-02 -1.96362779e-01]\n",
      " [ 1.19460067e-02  1.32497832e-01]\n",
      " [ 2.60433890e-02 -6.63282583e-03]\n",
      " [-2.62832525e-03 -5.81304207e-02]\n",
      " [ 1.42521588e-02  4.23640646e-02]\n",
      " [ 1.63718998e-01 -1.73190068e-02]\n",
      " [-1.10983245e-01 -3.84107009e-02]\n",
      " [-5.58115020e-02  1.24558821e-01]\n",
      " [ 2.58863550e-02  2.68844701e-02]\n",
      " [-1.48362502e-01 -5.17731607e-02]\n",
      " [-9.61543545e-02  7.36010596e-02]\n",
      " [-1.50926709e-01 -9.87605676e-02]\n",
      " [-3.57136093e-02 -9.81131718e-02]\n",
      " [-1.09103017e-01 -2.87886560e-02]\n",
      " [ 4.39809673e-02  9.97767299e-02]\n",
      " [ 5.73276058e-02  4.57839854e-02]\n",
      " [-1.90261658e-02 -9.39912815e-03]\n",
      " [-1.48804054e-01 -9.41491500e-02]\n",
      " [-6.61543459e-02  3.98219004e-02]\n",
      " [-8.45439136e-02  1.97087135e-02]\n",
      " [ 3.15102339e-02 -1.64339110e-01]\n",
      " [ 8.35342333e-02 -1.21393062e-01]\n",
      " [-1.62684143e-01  7.54503999e-03]\n",
      " [ 4.77548540e-02  3.19771133e-02]\n",
      " [ 3.35406070e-03 -1.93319079e-02]\n",
      " [ 1.00400366e-01  1.09278588e-02]\n",
      " [ 4.38884906e-02 -1.22675570e-02]\n",
      " [ 2.98441928e-02 -8.78733620e-02]\n",
      " [ 7.24917278e-02  1.13271020e-01]\n",
      " [-5.13473414e-02  2.82236990e-02]\n",
      " [-1.00527897e-01 -6.71784580e-02]\n",
      " [-1.13411009e-01 -5.27178720e-02]\n",
      " [ 1.67700976e-01  1.09983385e-02]\n",
      " [ 5.54590300e-02 -1.16786279e-01]\n",
      " [ 1.02092899e-01 -1.91005841e-01]\n",
      " [ 4.43982743e-02 -2.11178116e-03]\n",
      " [-7.25740641e-02  8.44626054e-02]\n",
      " [ 5.80229834e-02 -4.68453728e-02]\n",
      " [ 2.43525669e-01 -5.96485101e-02]\n",
      " [ 1.52751133e-01  1.94701195e-01]\n",
      " [ 4.84863035e-02  3.75871025e-02]\n",
      " [-1.75755601e-02 -1.35897666e-01]\n",
      " [ 7.74471685e-02 -3.29893902e-02]\n",
      " [-4.19903062e-02 -2.14630514e-02]\n",
      " [ 1.00257657e-01 -8.23786557e-02]\n",
      " [-3.36087719e-02 -8.38697364e-04]\n",
      " [-1.86194628e-01  1.20819561e-01]\n",
      " [-2.57880628e-01  1.23372577e-01]\n",
      " [ 2.62934957e-02 -2.26600794e-03]\n",
      " [ 5.35135083e-02  1.28907844e-01]\n",
      " [-1.65723130e-01  8.54356065e-02]\n",
      " [-6.75123278e-03  4.48625609e-02]\n",
      " [-6.76352158e-02 -1.42474920e-01]\n",
      " [ 3.88255753e-02  8.18096325e-02]\n",
      " [ 1.10806100e-01 -8.84880647e-02]\n",
      " [ 8.23866110e-03  2.15144698e-02]\n",
      " [ 9.50689912e-02  1.01674996e-01]\n",
      " [ 4.95383516e-02  8.81568864e-02]\n",
      " [-9.02192444e-02  1.40584307e-02]\n",
      " [-1.48607120e-01 -2.86765229e-02]\n",
      " [-1.38317838e-01  1.32081196e-01]\n",
      " [ 1.70016941e-02  3.65208089e-02]\n",
      " [-6.98027685e-02 -8.12603384e-02]\n",
      " [-1.02315605e-01  1.41842470e-01]\n",
      " [-5.70077412e-02 -2.17859507e-01]\n",
      " [ 6.24577235e-03  1.63363444e-03]\n",
      " [-1.62522554e-01 -2.63192244e-02]\n",
      " [ 7.12451190e-02 -4.75854687e-02]\n",
      " [ 1.93725660e-01  5.54081686e-02]\n",
      " [-4.45757806e-03  5.99293411e-02]\n",
      " [-2.42684841e-01  1.07088819e-01]\n",
      " [-3.94855477e-02 -1.08129360e-01]\n",
      " [ 2.57805139e-01  2.20289811e-01]\n",
      " [ 8.53352100e-02 -9.41516086e-03]\n",
      " [ 5.66548109e-02  2.51443740e-02]\n",
      " [ 1.45374164e-01 -1.25159442e-01]\n",
      " [-7.86716864e-02  3.22159603e-02]\n",
      " [-1.64893970e-01  1.04392551e-01]\n",
      " [ 1.48095014e-02  3.29959802e-02]\n",
      " [-3.72661501e-02  3.43898498e-02]\n",
      " [-2.11901162e-02  1.33143619e-01]\n",
      " [ 2.52929572e-02 -7.97224939e-02]\n",
      " [ 1.45801995e-02  2.20963415e-02]\n",
      " [-6.74962103e-02  1.06895439e-01]\n",
      " [ 3.12986784e-02 -1.35482922e-01]\n",
      " [-7.54620582e-02  1.04375519e-01]\n",
      " [-1.61503792e-01 -1.66973621e-01]\n",
      " [ 8.53963941e-03  4.60374169e-02]\n",
      " [-7.94323918e-04 -7.28574023e-02]\n",
      " [ 3.00490018e-02  1.41744897e-01]\n",
      " [ 1.02662638e-01  8.31227452e-02]\n",
      " [ 4.15988788e-02 -9.35156643e-02]\n",
      " [-3.31789218e-02 -3.06423903e-02]\n",
      " [ 4.44493517e-02  2.38099694e-01]\n",
      " [-7.99481422e-02  4.37094383e-02]\n",
      " [ 4.46374677e-02  1.19047239e-01]\n",
      " [ 2.99035618e-03 -1.40733570e-01]\n",
      " [ 5.26421098e-03  1.45910233e-01]\n",
      " [-9.86333787e-02 -9.48291048e-02]\n",
      " [-1.07712410e-01  7.60373250e-02]\n",
      " [-1.28228487e-02  7.85814375e-02]\n",
      " [-1.03303351e-01 -2.40828078e-02]\n",
      " [-1.88771039e-01  2.82506049e-02]\n",
      " [-1.06540464e-01  6.54498637e-02]\n",
      " [-8.22557509e-02 -7.75070041e-02]\n",
      " [-5.28563932e-02  1.50708975e-02]\n",
      " [-9.62962657e-02  7.90105611e-02]\n",
      " [ 5.04856892e-02 -6.63444996e-02]\n",
      " [ 9.36181750e-03  2.49735221e-01]\n",
      " [ 3.02255317e-03  1.00140266e-01]\n",
      " [ 4.14257720e-02 -1.22002661e-01]\n",
      " [-4.96968888e-02 -9.77026895e-02]\n",
      " [ 9.87255573e-02  1.39483973e-01]\n",
      " [-7.33166784e-02 -9.61840525e-02]\n",
      " [ 1.37668490e-01 -1.09386303e-01]\n",
      " [-1.66542858e-01  4.14533839e-02]\n",
      " [ 7.00597614e-02  1.58912763e-02]\n",
      " [-8.49216282e-02  2.67212670e-02]\n",
      " [ 1.83448792e-01  8.41993317e-02]\n",
      " [-4.63035554e-02  4.49086465e-02]\n",
      " [ 6.67356849e-02 -6.99312910e-02]\n",
      " [-1.72930062e-01 -4.58560064e-02]\n",
      " [-2.56316569e-02  5.56935044e-03]\n",
      " [-4.51076142e-02 -1.80251393e-02]\n",
      " [-9.35125444e-03  5.57770245e-02]\n",
      " [ 1.12682842e-01  2.91931424e-02]\n",
      " [-3.96561734e-02  6.17833734e-02]\n",
      " [-4.01678495e-02 -5.86810298e-02]\n",
      " [ 2.14988422e-02  9.58420429e-03]\n",
      " [ 1.69946969e-01  1.66740626e-01]\n",
      " [-8.56610462e-02 -3.28689627e-02]\n",
      " [ 7.57807791e-02 -1.07922055e-01]\n",
      " [ 5.56713231e-02  2.98008081e-02]\n",
      " [ 9.79015678e-02 -1.27756596e-01]\n",
      " [-1.27893910e-01 -1.11573935e-03]\n",
      " [-6.61752596e-02 -1.08378930e-02]\n",
      " [-2.22801492e-02 -1.45285413e-01]\n",
      " [ 1.11394517e-01  1.93232147e-03]\n",
      " [ 3.89910750e-02 -4.68860306e-02]\n",
      " [-5.58323450e-02  1.72694623e-02]\n",
      " [-1.39727443e-01 -1.17330387e-01]\n",
      " [ 1.02074377e-01  1.84798703e-01]\n",
      " [-6.40842691e-02 -4.44707945e-02]\n",
      " [-2.96808872e-02  7.22040460e-02]\n",
      " [-3.40388753e-02  5.07934168e-02]\n",
      " [ 6.57790676e-02  1.38602957e-01]\n",
      " [ 1.50179431e-01  2.04298832e-03]\n",
      " [ 2.31157735e-01  1.47460597e-02]\n",
      " [ 2.30054464e-02 -1.80718973e-01]\n",
      " [-1.04201678e-02  1.33040115e-01]\n",
      " [ 6.13121688e-02 -2.09153257e-03]\n",
      " [-1.18322752e-01  2.79180538e-02]\n",
      " [ 1.45863041e-01 -2.20592041e-02]\n",
      " [ 9.22481716e-03  7.47798523e-03]\n",
      " [ 5.29817007e-02  1.80973187e-01]\n",
      " [ 1.15594998e-01 -7.54620805e-02]\n",
      " [ 3.81911062e-02 -9.69163775e-02]\n",
      " [-9.11535788e-03 -1.69144236e-02]\n",
      " [-8.00856277e-02  1.35038689e-01]\n",
      " [ 3.69431414e-02 -8.15057755e-02]\n",
      " [ 1.09375596e-01 -1.56164512e-01]\n",
      " [ 1.14036120e-01 -1.01025775e-01]\n",
      " [ 1.38738215e-01 -4.08507548e-02]\n",
      " [ 6.61115423e-02 -2.22740006e-02]\n",
      " [-1.11939413e-02 -9.48158205e-02]\n",
      " [-6.17651045e-02  6.51006624e-02]\n",
      " [-3.27669121e-02  7.08120987e-02]\n",
      " [ 4.48778085e-02  7.49728596e-03]\n",
      " [ 2.91383769e-02 -5.47019802e-02]\n",
      " [-2.94834021e-02 -1.26027986e-01]\n",
      " [ 1.39111772e-01  1.58969953e-03]\n",
      " [ 1.08518876e-01 -2.45245034e-03]\n",
      " [ 1.69382300e-02 -8.47849436e-03]\n",
      " [ 1.00938097e-01  5.13872392e-02]\n",
      " [ 2.64212102e-01  1.60615325e-01]\n",
      " [-6.24671243e-02  1.56421706e-01]\n",
      " [ 5.25960326e-03 -7.69658312e-02]\n",
      " [-1.59063131e-01 -1.25963271e-01]\n",
      " [-8.04618075e-02  2.87966225e-02]\n",
      " [-7.05960765e-02 -8.44690204e-02]\n",
      " [ 3.02604493e-02 -1.12250663e-01]\n",
      " [ 8.42858478e-02  1.05563782e-01]\n",
      " [ 6.14343099e-02  2.61074137e-02]\n",
      " [ 1.40530497e-01  6.84419125e-02]\n",
      " [ 7.83287510e-02  2.92632403e-03]\n",
      " [ 9.14319158e-02 -4.00481699e-03]\n",
      " [-2.84640081e-02 -6.54410897e-03]\n",
      " [ 4.25265245e-02 -1.82021596e-02]\n",
      " [-7.59039521e-02  2.39216965e-02]\n",
      " [-1.45533204e-01  9.31380913e-02]\n",
      " [-4.81910370e-02  1.67762451e-02]\n",
      " [ 3.40183042e-02  2.47339532e-01]\n",
      " [-1.81459915e-02  2.27437422e-01]\n",
      " [ 5.95800988e-02 -1.51460230e-01]\n",
      " [ 3.99934500e-02 -1.22778118e-01]\n",
      " [-3.02572399e-02 -9.64409262e-02]\n",
      " [-2.90554464e-02 -7.01650754e-02]\n",
      " [-3.92325819e-02  1.11352585e-01]\n",
      " [-3.00544929e-02 -1.07556701e-01]\n",
      " [ 1.87631145e-01 -7.17899427e-02]\n",
      " [-5.16745821e-02 -1.34734502e-02]\n",
      " [-2.03201193e-02  6.06489442e-02]\n",
      " [-1.02879345e-01  1.89456474e-02]\n",
      " [ 1.02244616e-01 -2.31168736e-02]\n",
      " [-9.32641029e-02 -1.06398258e-02]\n",
      " [ 9.61245894e-02 -1.14705704e-01]\n",
      " [-2.14309528e-01 -2.98808794e-02]\n",
      " [ 1.61468964e-02 -8.68039653e-02]\n",
      " [ 1.50268078e-01 -3.07308342e-02]\n",
      " [ 7.80005334e-03  7.58268917e-03]\n",
      " [ 2.49815702e-01  1.70591578e-01]\n",
      " [-1.35476694e-01  4.11893874e-02]\n",
      " [ 6.33010939e-02  5.00934534e-02]\n",
      " [ 5.55706285e-02 -1.33434525e-02]\n",
      " [ 9.34772268e-02 -8.61303136e-02]\n",
      " [ 8.48368928e-02  3.26178223e-01]\n",
      " [-9.59110260e-02  9.59243476e-02]\n",
      " [-1.26349419e-01 -1.29544124e-01]\n",
      " [-9.99966487e-02 -6.07833676e-02]\n",
      " [ 2.51273271e-02  5.25972843e-02]\n",
      " [ 2.78379202e-01  1.33955240e-01]\n",
      " [-2.48931407e-04  1.31146550e-01]\n",
      " [-1.84451625e-01 -1.39115751e-02]]\n",
      "Sesgo capa 1 (b1): [0. 0.]\n",
      "Pesos capa salida (W2): [[-0.13389216]\n",
      " [ 0.05452907]]\n",
      "Sesgo capa salida (b2): [0.]\n"
     ]
    }
   ],
   "execution_count": 4
  },
  {
   "metadata": {},
   "cell_type": "markdown",
   "source": "## Función de pérdida y optimizador",
   "id": "1eeb9161124ae447"
  },
  {
   "metadata": {
    "ExecuteTime": {
     "end_time": "2025-10-30T20:48:48.296551Z",
     "start_time": "2025-10-30T20:48:48.280161Z"
    }
   },
   "cell_type": "code",
   "source": [
    "# Función de pérdida (Error Cuadrático Medio)\n",
    "def loss_fn(y_true, y_pred):\n",
    "    return tf.reduce_mean(tf.square(y_true - y_pred))\n",
    "\n",
    "# Optimizador (Descenso de Gradiente)\n",
    "optimizer = tf.optimizers.Adam(learning_rate=0.01)\n",
    "\n",
    "# Dividir datos en entrenamiento y prueba\n",
    "X_train, X_test, y_train, y_test = train_test_split(X, y, test_size=20, shuffle=False)\n",
    "\n",
    "print(f\"Datos de entrenamiento: {X_train.shape}\")\n",
    "print(f\"Datos de prueba: {X_test.shape}\")"
   ],
   "id": "805b710cd6a072fb",
   "outputs": [
    {
     "name": "stdout",
     "output_type": "stream",
     "text": [
      "Datos de entrenamiento: (1799, 300)\n",
      "Datos de prueba: (20, 300)\n"
     ]
    }
   ],
   "execution_count": 5
  },
  {
   "metadata": {},
   "cell_type": "markdown",
   "source": "## Entrenamiento de la neurona",
   "id": "8c845c45a86ca0b6"
  },
  {
   "metadata": {
    "ExecuteTime": {
     "end_time": "2025-10-30T20:48:48.565438Z",
     "start_time": "2025-10-30T20:48:48.311158Z"
    }
   },
   "cell_type": "code",
   "source": [
    "# Historial de pérdidas\n",
    "train_losses = []\n",
    "test_losses = []\n",
    "\n",
    "# Entrenamiento\n",
    "epochs = 2000\n",
    "for epoch in range(epochs):\n",
    "    with tf.GradientTape() as tape:\n",
    "        # Forward pass\n",
    "        y_pred = neurona(X_train.astype(np.float32))\n",
    "        loss = loss_fn(y_train.astype(np.float32), y_pred)\n",
    "\n",
    "    # Backward pass\n",
    "    gradients = tape.gradient(loss, [neurona.W1, neurona.b1, neurona.W2, neurona.b2])\n",
    "    optimizer.apply_gradients(zip(gradients, [neurona.W1, neurona.b1, neurona.W2, neurona.b2]))\n",
    "\n",
    "\n",
    "    # Calcular pérdida en test\n",
    "    y_test_pred = neurona(X_test.astype(np.float32))\n",
    "    test_loss = loss_fn(y_test.astype(np.float32), y_test_pred)\n",
    "\n",
    "    if epoch > 0 and test_loss.numpy() > test_losses[-1]:\n",
    "        print(f\"Epoch {epoch}: Loss: {test_loss.numpy()}\")\n",
    "        break\n",
    "\n",
    "    train_losses.append(loss.numpy())\n",
    "    test_losses.append(test_loss.numpy())\n",
    "\n",
    "    if epoch % 20 == 0:\n",
    "        print(f\"Época {epoch}: Pérdida entrenamiento = {loss.numpy():.6f}, Pérdida prueba = {test_loss.numpy():.6f}\")\n",
    "\n",
    "print(\"\\n¡Entrenamiento completado!\")"
   ],
   "id": "9f619120fed6647c",
   "outputs": [
    {
     "name": "stdout",
     "output_type": "stream",
     "text": [
      "Época 0: Pérdida entrenamiento = 0.673040, Pérdida prueba = 0.466615\n",
      "Epoch 4: Loss: 0.09617465734481812\n",
      "\n",
      "¡Entrenamiento completado!\n"
     ]
    }
   ],
   "execution_count": 6
  },
  {
   "cell_type": "markdown",
   "id": "3cd8ea5c37f21902",
   "metadata": {},
   "source": [
    "## Visualización del entrenamiento"
   ]
  },
  {
   "cell_type": "code",
   "id": "4cf263d4de049d04",
   "metadata": {
    "ExecuteTime": {
     "end_time": "2025-10-30T20:48:48.722143Z",
     "start_time": "2025-10-30T20:48:48.571656Z"
    }
   },
   "source": [
    "plt.figure(figsize=(12, 4))\n",
    "\n",
    "# Gráfico de pérdidas\n",
    "plt.subplot(1, 2, 1)\n",
    "plt.plot(train_losses, label='Pérdida Entrenamiento')\n",
    "plt.plot(test_losses, label='Pérdida Prueba')\n",
    "plt.title('Evolución de la Pérdida durante el Entrenamiento')\n",
    "plt.xlabel('Época')\n",
    "plt.ylabel('Pérdida')\n",
    "plt.legend()\n",
    "plt.grid(True)"
   ],
   "outputs": [
    {
     "data": {
      "text/plain": [
       "<Figure size 1200x400 with 1 Axes>"
      ],
      "image/png": "[encoded data removed]"
     },
     "metadata": {},
     "output_type": "display_data",
     "jetTransient": {
      "display_id": null
     }
    }
   ],
   "execution_count": 7
  },
  {
   "cell_type": "markdown",
   "id": "3487c71102aebfce",
   "metadata": {},
   "source": [
    "# Predicciones"
   ]
  },
  {
   "cell_type": "code",
   "id": "febe21c62293943d",
   "metadata": {
    "ExecuteTime": {
     "end_time": "2025-10-30T20:48:48.862428Z",
     "start_time": "2025-10-30T20:48:48.741115Z"
    }
   },
   "source": [
    "# Hacer predicciones\n",
    "y_pred_train = neurona(X_train.astype(np.float32))\n",
    "y_pred_test = neurona(X_test.astype(np.float32))\n",
    "\n",
    "# Desnormalizar las predicciones\n",
    "y_pred_train_actual = scaler.inverse_transform(y_pred_train.numpy())\n",
    "y_test_actual = scaler.inverse_transform(y_test.reshape(-1, 1))\n",
    "y_train_actual = scaler.inverse_transform(y_train.reshape(-1, 1))\n",
    "\n",
    "# Gráfico de predicciones vs valores reales\n",
    "plt.subplot(1, 2, 2)\n",
    "plt.plot(y_train_actual, label='Valores Reales (Train)', alpha=0.7)\n",
    "plt.plot(y_pred_train_actual, label='Predicciones (Train)', alpha=0.7)\n",
    "plt.title('Predicciones vs Valores Reales - Entrenamiento')\n",
    "plt.xlabel('Tiempo')\n",
    "plt.ylabel('Precio ETH (USD)')\n",
    "plt.legend()\n",
    "plt.grid(True)\n",
    "\n",
    "plt.tight_layout()\n",
    "plt.show()"
   ],
   "outputs": [
    {
     "data": {
      "text/plain": [
       "<Figure size 640x480 with 1 Axes>"
      ],
      "image/png": "[encoded data removed]"
     },
     "metadata": {},
     "output_type": "display_data",
     "jetTransient": {
      "display_id": null
     }
    }
   ],
   "execution_count": 8
  },
  {
   "cell_type": "markdown",
   "id": "9d01d40641691256",
   "metadata": {},
   "source": [
    "## Predicción del siguiente precio"
   ]
  },
  {
   "cell_type": "code",
   "id": "711fc1286d5d4ca3",
   "metadata": {
    "ExecuteTime": {
     "end_time": "2025-10-30T20:48:49.551567Z",
     "start_time": "2025-10-30T20:48:48.873329Z"
    }
   },
   "source": [
    "# Usar los últimos 'sequence_length' días para predecir el siguiente\n",
    "ultimos_datos = data_scaled[-sequence_length:].flatten().reshape(1, -1)\n",
    "\n",
    "# Hacer la predicción\n",
    "prediccion_normalizada = neurona(ultimos_datos.astype(np.float32))\n",
    "prediccion = scaler.inverse_transform(prediccion_normalizada.numpy())\n",
    "\n",
    "print(f\"\\n=== PREDICCIÓN DE LA NEURONA ===\")\n",
    "print(f\"Último precio real: ${data[-1][0]:.2f}\")\n",
    "print(f\"Predicción del siguiente precio: ${prediccion[0][0]:.2f}\")\n",
    "print(f\"Pesos finales de la neurona: {neurona.get_weights()[0].flatten()}\")\n",
    "print(f\"Sesgo final: {neurona.get_weights()[1][0]:.6f}\")"
   ],
   "outputs": [
    {
     "name": "stdout",
     "output_type": "stream",
     "text": [
      "\n",
      "=== PREDICCIÓN DE LA NEURONA ===\n",
      "Último precio real: $8.29\n",
      "Predicción del siguiente precio: $9.52\n"
     ]
    },
    {
     "ename": "KeyError",
     "evalue": "0",
     "output_type": "error",
     "traceback": [
      "\u001B[31m---------------------------------------------------------------------------\u001B[39m",
      "\u001B[31mKeyError\u001B[39m                                  Traceback (most recent call last)",
      "\u001B[36mCell\u001B[39m\u001B[36m \u001B[39m\u001B[32mIn[9]\u001B[39m\u001B[32m, line 11\u001B[39m\n\u001B[32m      9\u001B[39m \u001B[38;5;28mprint\u001B[39m(\u001B[33mf\u001B[39m\u001B[33m\"\u001B[39m\u001B[33mÚltimo precio real: $\u001B[39m\u001B[38;5;132;01m{\u001B[39;00mdata[-\u001B[32m1\u001B[39m][\u001B[32m0\u001B[39m]\u001B[38;5;132;01m:\u001B[39;00m\u001B[33m.2f\u001B[39m\u001B[38;5;132;01m}\u001B[39;00m\u001B[33m\"\u001B[39m)\n\u001B[32m     10\u001B[39m \u001B[38;5;28mprint\u001B[39m(\u001B[33mf\u001B[39m\u001B[33m\"\u001B[39m\u001B[33mPredicción del siguiente precio: $\u001B[39m\u001B[38;5;132;01m{\u001B[39;00mprediccion[\u001B[32m0\u001B[39m][\u001B[32m0\u001B[39m]\u001B[38;5;132;01m:\u001B[39;00m\u001B[33m.2f\u001B[39m\u001B[38;5;132;01m}\u001B[39;00m\u001B[33m\"\u001B[39m)\n\u001B[32m---> \u001B[39m\u001B[32m11\u001B[39m \u001B[38;5;28mprint\u001B[39m(\u001B[33mf\u001B[39m\u001B[33m\"\u001B[39m\u001B[33mPesos finales de la neurona: \u001B[39m\u001B[38;5;132;01m{\u001B[39;00m\u001B[43mneurona\u001B[49m\u001B[43m.\u001B[49m\u001B[43mget_weights\u001B[49m\u001B[43m(\u001B[49m\u001B[43m)\u001B[49m\u001B[43m[\u001B[49m\u001B[32;43m0\u001B[39;49m\u001B[43m]\u001B[49m.flatten()\u001B[38;5;132;01m}\u001B[39;00m\u001B[33m\"\u001B[39m)\n\u001B[32m     12\u001B[39m \u001B[38;5;28mprint\u001B[39m(\u001B[33mf\u001B[39m\u001B[33m\"\u001B[39m\u001B[33mSesgo final: \u001B[39m\u001B[38;5;132;01m{\u001B[39;00mneurona.get_weights()[\u001B[32m1\u001B[39m][\u001B[32m0\u001B[39m]\u001B[38;5;132;01m:\u001B[39;00m\u001B[33m.6f\u001B[39m\u001B[38;5;132;01m}\u001B[39;00m\u001B[33m\"\u001B[39m)\n",
      "\u001B[31mKeyError\u001B[39m: 0"
     ]
    }
   ],
   "execution_count": 9
  },
  {
   "cell_type": "markdown",
   "id": "935ed9d65891a6e8",
   "metadata": {},
   "source": [
    "# Evaluación del modelo"
   ]
  },
  {
   "cell_type": "code",
   "id": "b7689ca4e4b97b24",
   "metadata": {
    "ExecuteTime": {
     "end_time": "2025-10-30T20:48:49.578951700Z",
     "start_time": "2025-10-30T00:34:39.716624Z"
    }
   },
   "source": [
    "# Calcular métricas de error\n",
    "from sklearn.metrics import mean_absolute_error, mean_squared_error\n",
    "\n",
    "y_pred_test_actual = scaler.inverse_transform(y_pred_test.numpy())\n",
    "\n",
    "mae = mean_absolute_error(y_test_actual, y_pred_test_actual)\n",
    "mse = mean_squared_error(y_test_actual, y_pred_test_actual)\n",
    "rmse = np.sqrt(mse)\n",
    "\n",
    "print(f\"\\n=== MÉTRICAS DE EVALUACIÓN ===\")\n",
    "print(f\"Error Absoluto Medio (MAE): ${mae:.2f}\")\n",
    "print(f\"Error Cuadrático Medio (MSE): ${mse:.2f}\")\n",
    "print(f\"Raíz del Error Cuadrático Medio (RMSE): ${rmse:.2f}\")"
   ],
   "outputs": [
    {
     "ename": "ValueError",
     "evalue": "y_true and y_pred have different number of output (1!=2)",
     "output_type": "error",
     "traceback": [
      "\u001B[31m---------------------------------------------------------------------------\u001B[39m",
      "\u001B[31mValueError\u001B[39m                                Traceback (most recent call last)",
      "\u001B[36mCell\u001B[39m\u001B[36m \u001B[39m\u001B[32mIn[15]\u001B[39m\u001B[32m, line 6\u001B[39m\n\u001B[32m      2\u001B[39m \u001B[38;5;28;01mfrom\u001B[39;00m\u001B[38;5;250m \u001B[39m\u001B[34;01msklearn\u001B[39;00m\u001B[34;01m.\u001B[39;00m\u001B[34;01mmetrics\u001B[39;00m\u001B[38;5;250m \u001B[39m\u001B[38;5;28;01mimport\u001B[39;00m mean_absolute_error, mean_squared_error\n\u001B[32m      4\u001B[39m y_pred_test_actual = scaler.inverse_transform(y_pred_test.numpy())\n\u001B[32m----> \u001B[39m\u001B[32m6\u001B[39m mae = \u001B[43mmean_absolute_error\u001B[49m\u001B[43m(\u001B[49m\u001B[43my_test_actual\u001B[49m\u001B[43m,\u001B[49m\u001B[43m \u001B[49m\u001B[43my_pred_test_actual\u001B[49m\u001B[43m)\u001B[49m\n\u001B[32m      7\u001B[39m mse = mean_squared_error(y_test_actual, y_pred_test_actual)\n\u001B[32m      8\u001B[39m rmse = np.sqrt(mse)\n",
      "\u001B[36mFile \u001B[39m\u001B[32m~\\PycharmProjects\\JupyterProject\\.venv\\Lib\\site-packages\\sklearn\\utils\\_param_validation.py:218\u001B[39m, in \u001B[36mvalidate_params.<locals>.decorator.<locals>.wrapper\u001B[39m\u001B[34m(*args, **kwargs)\u001B[39m\n\u001B[32m    212\u001B[39m \u001B[38;5;28;01mtry\u001B[39;00m:\n\u001B[32m    213\u001B[39m     \u001B[38;5;28;01mwith\u001B[39;00m config_context(\n\u001B[32m    214\u001B[39m         skip_parameter_validation=(\n\u001B[32m    215\u001B[39m             prefer_skip_nested_validation \u001B[38;5;129;01mor\u001B[39;00m global_skip_validation\n\u001B[32m    216\u001B[39m         )\n\u001B[32m    217\u001B[39m     ):\n\u001B[32m--> \u001B[39m\u001B[32m218\u001B[39m         \u001B[38;5;28;01mreturn\u001B[39;00m \u001B[43mfunc\u001B[49m\u001B[43m(\u001B[49m\u001B[43m*\u001B[49m\u001B[43margs\u001B[49m\u001B[43m,\u001B[49m\u001B[43m \u001B[49m\u001B[43m*\u001B[49m\u001B[43m*\u001B[49m\u001B[43mkwargs\u001B[49m\u001B[43m)\u001B[49m\n\u001B[32m    219\u001B[39m \u001B[38;5;28;01mexcept\u001B[39;00m InvalidParameterError \u001B[38;5;28;01mas\u001B[39;00m e:\n\u001B[32m    220\u001B[39m     \u001B[38;5;66;03m# When the function is just a wrapper around an estimator, we allow\u001B[39;00m\n\u001B[32m    221\u001B[39m     \u001B[38;5;66;03m# the function to delegate validation to the estimator, but we replace\u001B[39;00m\n\u001B[32m    222\u001B[39m     \u001B[38;5;66;03m# the name of the estimator by the name of the function in the error\u001B[39;00m\n\u001B[32m    223\u001B[39m     \u001B[38;5;66;03m# message to avoid confusion.\u001B[39;00m\n\u001B[32m    224\u001B[39m     msg = re.sub(\n\u001B[32m    225\u001B[39m         \u001B[33mr\u001B[39m\u001B[33m\"\u001B[39m\u001B[33mparameter of \u001B[39m\u001B[33m\\\u001B[39m\u001B[33mw+ must be\u001B[39m\u001B[33m\"\u001B[39m,\n\u001B[32m    226\u001B[39m         \u001B[33mf\u001B[39m\u001B[33m\"\u001B[39m\u001B[33mparameter of \u001B[39m\u001B[38;5;132;01m{\u001B[39;00mfunc.\u001B[34m__qualname__\u001B[39m\u001B[38;5;132;01m}\u001B[39;00m\u001B[33m must be\u001B[39m\u001B[33m\"\u001B[39m,\n\u001B[32m    227\u001B[39m         \u001B[38;5;28mstr\u001B[39m(e),\n\u001B[32m    228\u001B[39m     )\n",
      "\u001B[36mFile \u001B[39m\u001B[32m~\\PycharmProjects\\JupyterProject\\.venv\\Lib\\site-packages\\sklearn\\metrics\\_regression.py:284\u001B[39m, in \u001B[36mmean_absolute_error\u001B[39m\u001B[34m(y_true, y_pred, sample_weight, multioutput)\u001B[39m\n\u001B[32m    228\u001B[39m \u001B[38;5;250m\u001B[39m\u001B[33;03m\"\"\"Mean absolute error regression loss.\u001B[39;00m\n\u001B[32m    229\u001B[39m \n\u001B[32m    230\u001B[39m \u001B[33;03mThe mean absolute error is a non-negative floating point value, where best value\u001B[39;00m\n\u001B[32m   (...)\u001B[39m\u001B[32m    279\u001B[39m \u001B[33;03m0.85...\u001B[39;00m\n\u001B[32m    280\u001B[39m \u001B[33;03m\"\"\"\u001B[39;00m\n\u001B[32m    281\u001B[39m xp, _ = get_namespace(y_true, y_pred, sample_weight, multioutput)\n\u001B[32m    283\u001B[39m _, y_true, y_pred, sample_weight, multioutput = (\n\u001B[32m--> \u001B[39m\u001B[32m284\u001B[39m     \u001B[43m_check_reg_targets_with_floating_dtype\u001B[49m\u001B[43m(\u001B[49m\n\u001B[32m    285\u001B[39m \u001B[43m        \u001B[49m\u001B[43my_true\u001B[49m\u001B[43m,\u001B[49m\u001B[43m \u001B[49m\u001B[43my_pred\u001B[49m\u001B[43m,\u001B[49m\u001B[43m \u001B[49m\u001B[43msample_weight\u001B[49m\u001B[43m,\u001B[49m\u001B[43m \u001B[49m\u001B[43mmultioutput\u001B[49m\u001B[43m,\u001B[49m\u001B[43m \u001B[49m\u001B[43mxp\u001B[49m\u001B[43m=\u001B[49m\u001B[43mxp\u001B[49m\n\u001B[32m    286\u001B[39m \u001B[43m    \u001B[49m\u001B[43m)\u001B[49m\n\u001B[32m    287\u001B[39m )\n\u001B[32m    289\u001B[39m output_errors = _average(\n\u001B[32m    290\u001B[39m     xp.abs(y_pred - y_true), weights=sample_weight, axis=\u001B[32m0\u001B[39m, xp=xp\n\u001B[32m    291\u001B[39m )\n\u001B[32m    292\u001B[39m \u001B[38;5;28;01mif\u001B[39;00m \u001B[38;5;28misinstance\u001B[39m(multioutput, \u001B[38;5;28mstr\u001B[39m):\n",
      "\u001B[36mFile \u001B[39m\u001B[32m~\\PycharmProjects\\JupyterProject\\.venv\\Lib\\site-packages\\sklearn\\metrics\\_regression.py:209\u001B[39m, in \u001B[36m_check_reg_targets_with_floating_dtype\u001B[39m\u001B[34m(y_true, y_pred, sample_weight, multioutput, xp)\u001B[39m\n\u001B[32m    160\u001B[39m \u001B[38;5;250m\u001B[39m\u001B[33;03m\"\"\"Ensures y_true, y_pred, and sample_weight correspond to same regression task.\u001B[39;00m\n\u001B[32m    161\u001B[39m \n\u001B[32m    162\u001B[39m \u001B[33;03mExtends `_check_reg_targets` by automatically selecting a suitable floating-point\u001B[39;00m\n\u001B[32m   (...)\u001B[39m\u001B[32m    205\u001B[39m \u001B[33;03m    correct keyword.\u001B[39;00m\n\u001B[32m    206\u001B[39m \u001B[33;03m\"\"\"\u001B[39;00m\n\u001B[32m    207\u001B[39m dtype_name = _find_matching_floating_dtype(y_true, y_pred, sample_weight, xp=xp)\n\u001B[32m--> \u001B[39m\u001B[32m209\u001B[39m y_type, y_true, y_pred, sample_weight, multioutput = \u001B[43m_check_reg_targets\u001B[49m\u001B[43m(\u001B[49m\n\u001B[32m    210\u001B[39m \u001B[43m    \u001B[49m\u001B[43my_true\u001B[49m\u001B[43m,\u001B[49m\u001B[43m \u001B[49m\u001B[43my_pred\u001B[49m\u001B[43m,\u001B[49m\u001B[43m \u001B[49m\u001B[43msample_weight\u001B[49m\u001B[43m,\u001B[49m\u001B[43m \u001B[49m\u001B[43mmultioutput\u001B[49m\u001B[43m,\u001B[49m\u001B[43m \u001B[49m\u001B[43mdtype\u001B[49m\u001B[43m=\u001B[49m\u001B[43mdtype_name\u001B[49m\u001B[43m,\u001B[49m\u001B[43m \u001B[49m\u001B[43mxp\u001B[49m\u001B[43m=\u001B[49m\u001B[43mxp\u001B[49m\n\u001B[32m    211\u001B[39m \u001B[43m\u001B[49m\u001B[43m)\u001B[49m\n\u001B[32m    213\u001B[39m \u001B[38;5;28;01mreturn\u001B[39;00m y_type, y_true, y_pred, sample_weight, multioutput\n",
      "\u001B[36mFile \u001B[39m\u001B[32m~\\PycharmProjects\\JupyterProject\\.venv\\Lib\\site-packages\\sklearn\\metrics\\_regression.py:127\u001B[39m, in \u001B[36m_check_reg_targets\u001B[39m\u001B[34m(y_true, y_pred, sample_weight, multioutput, dtype, xp)\u001B[39m\n\u001B[32m    124\u001B[39m     y_pred = xp.reshape(y_pred, (-\u001B[32m1\u001B[39m, \u001B[32m1\u001B[39m))\n\u001B[32m    126\u001B[39m \u001B[38;5;28;01mif\u001B[39;00m y_true.shape[\u001B[32m1\u001B[39m] != y_pred.shape[\u001B[32m1\u001B[39m]:\n\u001B[32m--> \u001B[39m\u001B[32m127\u001B[39m     \u001B[38;5;28;01mraise\u001B[39;00m \u001B[38;5;167;01mValueError\u001B[39;00m(\n\u001B[32m    128\u001B[39m         \u001B[33m\"\u001B[39m\u001B[33my_true and y_pred have different number of output (\u001B[39m\u001B[38;5;132;01m{0}\u001B[39;00m\u001B[33m!=\u001B[39m\u001B[38;5;132;01m{1}\u001B[39;00m\u001B[33m)\u001B[39m\u001B[33m\"\u001B[39m.format(\n\u001B[32m    129\u001B[39m             y_true.shape[\u001B[32m1\u001B[39m], y_pred.shape[\u001B[32m1\u001B[39m]\n\u001B[32m    130\u001B[39m         )\n\u001B[32m    131\u001B[39m     )\n\u001B[32m    133\u001B[39m n_outputs = y_true.shape[\u001B[32m1\u001B[39m]\n\u001B[32m    134\u001B[39m allowed_multioutput_str = (\u001B[33m\"\u001B[39m\u001B[33mraw_values\u001B[39m\u001B[33m\"\u001B[39m, \u001B[33m\"\u001B[39m\u001B[33muniform_average\u001B[39m\u001B[33m\"\u001B[39m, \u001B[33m\"\u001B[39m\u001B[33mvariance_weighted\u001B[39m\u001B[33m\"\u001B[39m)\n",
      "\u001B[31mValueError\u001B[39m: y_true and y_pred have different number of output (1!=2)"
     ]
    }
   ],
   "execution_count": 15
  }
 ],
 "metadata": {
  "kernelspec": {
   "display_name": "Python 3 (ipykernel)",
   "language": "python",
   "name": "python3"
  },
  "language_info": {
   "codemirror_mode": {
    "name": "ipython",
    "version": 3
   },
   "file_extension": ".py",
   "mimetype": "text/x-python",
   "name": "python",
   "nbconvert_exporter": "python",
   "pygments_lexer": "ipython3",
   "version": "3.13.5"
  }
 },
 "nbformat": 4,
 "nbformat_minor": 5
}
